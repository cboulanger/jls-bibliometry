{
 "cells": [
  {
   "cell_type": "code",
   "execution_count": 1,
   "metadata": {
    "ExecuteTime": {
     "start_time": "2023-05-21T15:50:29.889933Z",
     "end_time": "2023-05-21T15:51:00.845442Z"
    },
    "collapsed": true
   },
   "outputs": [
    {
     "name": "stdout",
     "output_type": "stream",
     "text": [
      "^C\n"
     ]
    },
    {
     "name": "stderr",
     "output_type": "stream",
     "text": [
      "\n",
      "KeyboardInterrupt\n",
      "\n"
     ]
    }
   ],
   "source": [
    "# nlp\n",
    "!conda install -c conda-forge bertopic\n",
    "import nltk\n",
    "nltk.download('punkt')\n",
    "nltk.download('stopwords')\n",
    "\n",
    "# visualizations\n",
    "!conda install -c conda-forge plotly nbconvert\n",
    "!conda install -c conda-forge python-kaleido\n"
   ]
  },
  {
   "cell_type": "code",
   "execution_count": null,
   "metadata": {
    "ExecuteTime": {
     "start_time": "2023-05-26T10:40:23.832261Z",
     "end_time": "2023-05-26T10:40:23.836081Z"
    }
   },
   "outputs": [],
   "source": [
    "import os, re, pickle\n",
    "from bertopic import BERTopic\n",
    "from tqdm import tqdm\n",
    "from nltk.corpus import stopwords as stop_words\n",
    "from datetime import datetime\n",
    "from IPython.display import SVG, HTML, Image, display\n",
    "import pandas as pd\n",
    "import matplotlib.pyplot as plt\n",
    "from scripts.publish_notebook import save_notebook_as_html"
   ]
  },
  {
   "cell_type": "code",
   "execution_count": null,
   "outputs": [],
   "source": [
    "base_dir = \"C:/Users/Boulanger/ownCloud/Langfristvorhaben/Legal-Theory-Graph/Data\"\n",
    "corpus_dir = os.path.join(base_dir, \"FULLTEXTS/JLS/jls-txt\")\n",
    "d2y = pd.read_csv('data/jls-doi-to-year.csv')\n",
    "stopwords=set(stop_words.words('english'))\n",
    "stopwords.update({'jstor','conditions','terms','use','content','de','la','cit','yves','pm','tue','mon','wed','thu','fri','downloaded','jan','feb','mar','apr','may','jun','jul','aug','sep','oct','nov','dec'})"
   ],
   "metadata": {
    "collapsed": false,
    "ExecuteTime": {
     "start_time": "2023-05-26T10:44:33.761871Z",
     "end_time": "2023-05-26T10:44:33.806125Z"
    }
   }
  },
  {
   "cell_type": "code",
   "execution_count": null,
   "outputs": [],
   "source": [
    "# Load the articles\n",
    "if not os.path.exists('cache/jls-articles.pkl'):\n",
    "    articles = []\n",
    "    timestamps = []\n",
    "    not_found = []\n",
    "    for filename in tqdm(os.listdir(corpus_dir)):\n",
    "        if filename.endswith(\".txt\"):\n",
    "            with open(os.path.join(corpus_dir, filename), \"r\", encoding=\"utf-8\") as f:\n",
    "                article = f.read()\n",
    "                tmp_article = []\n",
    "                doi = filename.strip(\".txt\").replace(\"_\",\"/\")\n",
    "                year = d2y.loc[d2y['DOI'] == doi, 'year']\n",
    "                if year.empty:\n",
    "                    year = d2y.loc[d2y['DOI'] == f\"{doi}.x\", 'year']\n",
    "                # only use articles for which we have a year\n",
    "                if not year.empty:\n",
    "                    timestamp = datetime.strptime(str(year.values[0]), '%Y').date()\n",
    "                    timestamps.append(timestamp)\n",
    "                    for word in str(article).split():\n",
    "                        # remove tokens containing numbers or those in the list of stopwords\n",
    "                        if re.match(r'\\d', word) is None and word.lower() not in stopwords:\n",
    "                            tmp_article.append(word)\n",
    "                    articles.append(' '.join(tmp_article))\n",
    "                else:\n",
    "                    not_found.append(doi)\n",
    "\n",
    "    earliest_year = min(timestamps).strftime('%Y')\n",
    "    latest_year = max(timestamps).strftime('%Y')\n",
    "    with open('cache/jls-articles.pkl', 'wb') as f:\n",
    "        pickle.dump((articles, earliest_year, latest_year, not_found, timestamps), f)\n",
    "else:\n",
    "    with open('cache/jls-articles.pkl', 'rb') as file:\n",
    "        articles, earliest_year, latest_year, not_found, timestamps = pickle.load(file)\n",
    "\n",
    "print(f\"Corpus has {len(articles)} articles from {earliest_year} to {latest_year}. Date information is missing for {len(not_found)} articles.\")"
   ],
   "metadata": {
    "collapsed": false,
    "ExecuteTime": {
     "start_time": "2023-05-26T10:44:34.780765Z",
     "end_time": "2023-05-26T10:44:51.812489Z"
    }
   }
  },
  {
   "cell_type": "code",
   "execution_count": null,
   "metadata": {
    "ExecuteTime": {
     "start_time": "2023-05-26T10:45:02.377462Z",
     "end_time": "2023-05-26T11:43:10.475286Z"
    }
   },
   "outputs": [],
   "source": [
    "if not os.path.exists('cache/bertopic-data.pkl'):\n",
    "    model: BERTopic = BERTopic(verbose=True)\n",
    "    topics, probs = model.fit_transform(articles)\n",
    "    with open('cache/bertopic-data.pkl', 'wb') as f:\n",
    "        pickle.dump((model, topics, probs), f)\n",
    "else:\n",
    "    with open('cache/bertopic-data.pkl', 'rb') as f:\n",
    "        model, topics, probs = pickle.load(f)"
   ]
  },
  {
   "cell_type": "code",
   "execution_count": null,
   "metadata": {
    "ExecuteTime": {
     "start_time": "2023-05-26T11:44:29.945586Z",
     "end_time": "2023-05-26T11:44:30.001963Z"
    }
   },
   "outputs": [],
   "source": [
    "model.get_topic_info()"
   ]
  },
  {
   "cell_type": "code",
   "execution_count": null,
   "outputs": [],
   "source": [
    "if not os.path.exists(\"cache/jls-topics-over-time.pkl\"):\n",
    "    topics_over_time = model.topics_over_time(articles, timestamps)\n",
    "    with open(\"cache/jls-topics-over-time.pkl\", \"wb\") as f:\n",
    "        pickle.dump(topics_over_time, f)\n",
    "else:\n",
    "    with open('cache/jls-topics-over-time.pkl', 'rb') as file:\n",
    "        topics_over_time = pickle.load(file)"
   ],
   "metadata": {
    "collapsed": false,
    "ExecuteTime": {
     "start_time": "2023-05-26T11:44:43.950448Z",
     "end_time": "2023-05-26T11:46:02.908095Z"
    }
   }
  },
  {
   "cell_type": "code",
   "execution_count": null,
   "outputs": [],
   "source": [
    "topics_over_time"
   ],
   "metadata": {
    "collapsed": false,
    "ExecuteTime": {
     "start_time": "2023-05-26T11:50:17.535739Z",
     "end_time": "2023-05-26T11:50:17.563737Z"
    }
   }
  },
  {
   "cell_type": "code",
   "execution_count": null,
   "outputs": [],
   "source": [
    "fig = model.visualize_topics_over_time(topics_over_time)\n",
    "fig.write_html(\"docs/jls-topics-over-time.html\")\n",
    "img = fig.to_image(format=\"png\", height=600)\n",
    "with open(\"figure/jls-topics-over-time.png\", \"wb\") as f:\n",
    "    f.write(img)\n",
    "display(Image(img))"
   ],
   "metadata": {
    "collapsed": false,
    "ExecuteTime": {
     "start_time": "2023-05-26T11:50:30.269958Z",
     "end_time": "2023-05-26T11:50:35.745880Z"
    }
   }
  },
  {
   "cell_type": "code",
   "execution_count": null,
   "outputs": [],
   "source": [
    "# Calculate total frequency for each topic\n",
    "total_freq = topics_over_time.groupby('Topic')['Frequency'].sum().sort_values(ascending=False)\n",
    "\n",
    "# Select the 20 topics with the highest total frequency\n",
    "top_20_topics = total_freq.head(20).index\n",
    "\n",
    "# Filter your data to include only these top 20 topics\n",
    "filtered_data = topics_over_time[topics_over_time['Topic'].isin(top_20_topics)]\n",
    "\n",
    "# Create a mapping of topics numbers to words using the filtered data\n",
    "topic_num_to_word = {num: word for num, word in zip(filtered_data['Topic'], filtered_data['Words'])}\n",
    "\n",
    "# Plot\n",
    "fig, ax = plt.subplots()\n",
    "ax.set_xlabel('Year')\n",
    "ax.set_ylabel('Topics')\n",
    "\n",
    "scatter = ax.scatter(filtered_data['Timestamp'], filtered_data['Topic'], s=filtered_data['Frequency'])\n",
    "\n",
    "# Rename y ticks to correspond to actual topics\n",
    "plt.yticks(top_20_topics, [topic_num_to_word[num] for num in top_20_topics])\n",
    "\n",
    "# Invert the y-axis so that the topic with the highest total frequency appears at the top\n",
    "ax.invert_yaxis()\n",
    "\n",
    "# Create lines for each topic\n",
    "for t in top_20_topics:\n",
    "    data = filtered_data[filtered_data['Topic'] == t][['Timestamp', 'Topic']].sort_values('Timestamp')\n",
    "    ax.plot(data['Timestamp'], data['Topic'], color='grey', linewidth=0.5)\n",
    "\n",
    "plt.show()\n"
   ],
   "metadata": {
    "collapsed": false,
    "ExecuteTime": {
     "start_time": "2023-05-26T11:50:41.189780Z",
     "end_time": "2023-05-26T11:50:42.169470Z"
    }
   }
  },
  {
   "cell_type": "code",
   "execution_count": null,
   "outputs": [],
   "source": [
    "import pandas as pd\n",
    "import matplotlib.pyplot as plt\n",
    "import os\n",
    "\n",
    "# Convert 'Timestamp' to datetime\n",
    "topics_over_time['Timestamp'] = pd.to_datetime(topics_over_time['Timestamp'])\n",
    "\n",
    "# Calculate the year for each row in the data\n",
    "topics_over_time['Year'] = topics_over_time['Timestamp'].dt.year\n",
    "\n",
    "# Get the first year and last year\n",
    "first_year = topics_over_time['Year'].min()\n",
    "last_year = topics_over_time['Year'].max()\n",
    "\n",
    "# Create list of \"decades\" with sliding windows\n",
    "decades = [(start, start + 10) for start in range(first_year, last_year, 10)]\n",
    "\n",
    "# Create a subplot for each decade\n",
    "fig, axs = plt.subplots(len(decades), 1, figsize=(10, 7*len(decades)))\n",
    "\n",
    "for i, (start, end) in enumerate(decades):\n",
    "    # Filter the data for the current \"decade\"\n",
    "    data_decade = topics_over_time[(topics_over_time['Year'] >= start) & (topics_over_time['Year'] < end)]\n",
    "\n",
    "    # Calculate total frequency for each topic in the current \"decade\"\n",
    "    total_freq_decade = data_decade.groupby('Topic')['Frequency'].sum().sort_values(ascending=False)\n",
    "\n",
    "    # Select the top 20 topics from the current \"decade\"\n",
    "    top_topics_decade = total_freq_decade.head(20).index\n",
    "\n",
    "    # Filter data_decade to include only the top 20 topics\n",
    "    data_decade = data_decade[data_decade['Topic'].isin(top_topics_decade)]\n",
    "\n",
    "    # Create a mapping of topics numbers to words using the data_decade\n",
    "    topic_num_to_word = {num: word for num, word in zip(data_decade['Topic'], data_decade['Words'])}\n",
    "\n",
    "    # Create a new continuous range of numbers for y-axis, but in reversed order\n",
    "    y_values = range(20, 0, -1)\n",
    "    topic_to_y_value = {topic: y for topic, y in zip(top_topics_decade, y_values)}\n",
    "\n",
    "    # Plot\n",
    "    axs[i].set_title(f'Years: {start}-{end-1}')\n",
    "    axs[i].set_xlabel('Year')\n",
    "    axs[i].set_ylabel('Topics')\n",
    "    scatter = axs[i].scatter(data_decade['Timestamp'], data_decade['Topic'].map(topic_to_y_value), s=data_decade['Frequency'])\n",
    "\n",
    "    # Rename y ticks to correspond to actual topics\n",
    "    y_labels = [f'{rank}. {topic_num_to_word[num]}' for rank, num in zip(range(1, 21), top_topics_decade)]\n",
    "    axs[i].set_yticks(y_values)\n",
    "    axs[i].set_yticklabels(y_labels)\n",
    "\n",
    "    # Create lines for each topic\n",
    "    for t in top_topics_decade:\n",
    "        data = data_decade[data_decade['Topic'] == t].sort_values('Timestamp')\n",
    "        axs[i].plot(data['Timestamp'], data['Topic'].map(topic_to_y_value), color='grey', linewidth=0.5)\n",
    "\n",
    "    # Save the figure\n",
    "    #filename = f'docs/jls-topics-{start}-{end-1}.png'\n",
    "    #plt.savefig(filename)\n",
    "    # Clear the current figure's content\n",
    "    #plt.clf()\n",
    "\n",
    "filename = f'docs/jls-topics-{first_year}-{last_year}.png'\n",
    "plt.savefig(filename)\n",
    "plt.tight_layout()\n",
    "plt.show()\n"
   ],
   "metadata": {
    "collapsed": false,
    "ExecuteTime": {
     "start_time": "2023-05-26T11:57:17.726025Z",
     "end_time": "2023-05-26T11:57:20.355412Z"
    }
   }
  },
  {
   "cell_type": "code",
   "execution_count": null,
   "outputs": [],
   "source": [
    "# created document topics, this takes a while\n",
    "fig_document_topics = model.visualize_documents(articles, hide_document_hover=True)\n",
    "# persist data\n",
    "with open('cache/fig-document-topics.pkl', 'wb') as f:\n",
    "    pickle.dump(fig_document_topics, f)"
   ],
   "metadata": {
    "collapsed": false,
    "ExecuteTime": {
     "start_time": "2023-05-25T23:07:07.852289Z",
     "end_time": "2023-05-26T00:05:22.181380Z"
    }
   }
  },
  {
   "cell_type": "code",
   "execution_count": null,
   "outputs": [],
   "source": [
    "if 'fig_document_topics' not in locals():\n",
    "    with open('cache/fig-document-topics.pkl', 'rb') as f:\n",
    "        fig_document_topics = pickle.load(f)\n",
    "img = fig_document_topics.to_image(format=\"png\", height=800)\n",
    "with open(\"figure/jls-document-topics.png\", \"wb\") as f:\n",
    "    f.write(img)\n",
    "fig_document_topics.write_html(\"docs/jls-document-topics.html\")\n",
    "display(Image(img))"
   ],
   "metadata": {
    "collapsed": false,
    "ExecuteTime": {
     "start_time": "2023-05-26T07:02:22.990411Z",
     "end_time": "2023-05-26T07:02:24.403794Z"
    }
   }
  },
  {
   "cell_type": "code",
   "execution_count": null,
   "outputs": [],
   "source": [
    "from scripts.publish_notebook import save_notebook_as_html\n",
    "save_notebook_as_html(\"jls-topic-modelling.ipynb\", \"docs/notebook-jls-topic-modelling.html\")"
   ],
   "metadata": {
    "collapsed": false,
    "ExecuteTime": {
     "start_time": "2023-05-26T12:00:50.282342Z",
     "end_time": "2023-05-26T12:00:50.846210Z"
    }
   }
  },
  {
   "cell_type": "code",
   "execution_count": null,
   "outputs": [],
   "source": [],
   "metadata": {
    "collapsed": false
   }
  }
 ],
 "metadata": {
  "kernelspec": {
   "display_name": "Python 3 (ipykernel)",
   "language": "python",
   "name": "python3"
  },
  "language_info": {
   "codemirror_mode": {
    "name": "ipython",
    "version": 3
   },
   "file_extension": ".py",
   "mimetype": "text/x-python",
   "name": "python",
   "nbconvert_exporter": "python",
   "pygments_lexer": "ipython3",
   "version": "3.9.7"
  },
  "toc": {
   "base_numbering": 1,
   "nav_menu": {},
   "number_sections": true,
   "sideBar": true,
   "skip_h1_title": false,
   "title_cell": "Table of Contents",
   "title_sidebar": "Contents",
   "toc_cell": false,
   "toc_position": {},
   "toc_section_display": true,
   "toc_window_display": false
  }
 },
 "nbformat": 4,
 "nbformat_minor": 1
}
