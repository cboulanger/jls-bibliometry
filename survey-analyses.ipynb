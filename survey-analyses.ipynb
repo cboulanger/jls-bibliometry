{
 "cells": [
  {
   "cell_type": "code",
   "execution_count": 1,
   "metadata": {
    "collapsed": true,
    "ExecuteTime": {
     "start_time": "2023-04-14T12:39:18.179873Z",
     "end_time": "2023-04-14T12:39:28.650656Z"
    }
   },
   "outputs": [
    {
     "name": "stdout",
     "output_type": "stream",
     "text": [
      "Requirement already satisfied: pandas in c:\\users\\boulanger\\appdata\\roaming\\python\\python39\\site-packages (1.4.4)\n",
      "Collecting pyreadstat\n",
      "  Downloading pyreadstat-1.2.1-cp39-cp39-win_amd64.whl (2.4 MB)\n",
      "     ---------------------------------------- 0.0/2.4 MB ? eta -:--:--\n",
      "     -- ------------------------------------- 0.2/2.4 MB 3.1 MB/s eta 0:00:01\n",
      "     -------- ------------------------------- 0.5/2.4 MB 5.6 MB/s eta 0:00:01\n",
      "     ----------------- ---------------------- 1.0/2.4 MB 7.3 MB/s eta 0:00:01\n",
      "     ------------------------- -------------- 1.5/2.4 MB 8.1 MB/s eta 0:00:01\n",
      "     -------------------------- ------------- 1.6/2.4 MB 8.4 MB/s eta 0:00:01\n",
      "     ------------------------------- -------- 1.9/2.4 MB 6.6 MB/s eta 0:00:01\n",
      "     ---------------------------------------- 2.4/2.4 MB 8.0 MB/s eta 0:00:00\n",
      "Requirement already satisfied: numpy>=1.18.5 in c:\\users\\boulanger\\anaconda3\\lib\\site-packages (from pandas) (1.23.5)\n",
      "Requirement already satisfied: python-dateutil>=2.8.1 in c:\\users\\boulanger\\anaconda3\\lib\\site-packages (from pandas) (2.8.2)\n",
      "Requirement already satisfied: pytz>=2020.1 in c:\\users\\boulanger\\anaconda3\\lib\\site-packages (from pandas) (2022.7)\n",
      "Requirement already satisfied: six>=1.5 in c:\\users\\boulanger\\anaconda3\\lib\\site-packages (from python-dateutil>=2.8.1->pandas) (1.16.0)\n",
      "Installing collected packages: pyreadstat\n",
      "Successfully installed pyreadstat-1.2.1\n"
     ]
    }
   ],
   "source": [
    "!pip install pandas pyreadstat"
   ]
  },
  {
   "cell_type": "code",
   "execution_count": 2,
   "outputs": [
    {
     "name": "stdout",
     "output_type": "stream",
     "text": [
      "          Q1          Q2          Q3          Q4      Q5_1_c      Q5_2_c  \\\n",
      "count  178.0  113.000000  173.000000  175.000000  152.000000  134.000000   \n",
      "mean     1.0    1.539823    2.502890    3.377143    8.414474    6.328358   \n",
      "std      0.0    0.500632    0.524119    1.424556    3.024063    2.914254   \n",
      "min      1.0    1.000000    1.000000    1.000000    2.000000    1.000000   \n",
      "25%      1.0    1.000000    2.000000    2.000000    5.000000    4.000000   \n",
      "50%      1.0    2.000000    3.000000    4.000000   10.000000    7.000000   \n",
      "75%      1.0    2.000000    3.000000    4.000000   11.000000    9.000000   \n",
      "max      1.0    2.000000    3.000000    6.000000   11.000000   11.000000   \n",
      "\n",
      "           Q5_3_c     Q5_4_c  Q5_5_c          Q6  ...  Q26_a_ii_0    Q27  \\\n",
      "count  101.000000  50.000000    11.0  125.000000  ...         9.0  120.0   \n",
      "mean     4.396040   3.460000     3.0    1.648000  ...         1.0    1.0   \n",
      "std      3.026811   2.771649     3.0    0.686929  ...         0.0    0.0   \n",
      "min      1.000000   1.000000     1.0    1.000000  ...         1.0    1.0   \n",
      "25%      2.000000   2.000000     1.5    1.000000  ...         1.0    1.0   \n",
      "50%      2.000000   2.000000     2.0    2.000000  ...         1.0    1.0   \n",
      "75%      7.000000   6.000000     2.0    2.000000  ...         1.0    1.0   \n",
      "max     11.000000  11.000000     9.0    3.000000  ...         1.0    1.0   \n",
      "\n",
      "       Q27_a_4  Q27_a_3  Q27_a_2  Q27_a_1  Q27_a_0   Q30  Q30_a_1  Q30_a_0  \n",
      "count     52.0     75.0     81.0     81.0     52.0  88.0     84.0     66.0  \n",
      "mean       1.0      1.0      1.0      1.0      1.0   1.0      1.0      1.0  \n",
      "std        0.0      0.0      0.0      0.0      0.0   0.0      0.0      0.0  \n",
      "min        1.0      1.0      1.0      1.0      1.0   1.0      1.0      1.0  \n",
      "25%        1.0      1.0      1.0      1.0      1.0   1.0      1.0      1.0  \n",
      "50%        1.0      1.0      1.0      1.0      1.0   1.0      1.0      1.0  \n",
      "75%        1.0      1.0      1.0      1.0      1.0   1.0      1.0      1.0  \n",
      "max        1.0      1.0      1.0      1.0      1.0   1.0      1.0      1.0  \n",
      "\n",
      "[8 rows x 82 columns]\n"
     ]
    }
   ],
   "source": [
    "import pandas as pd\n",
    "import pyreadstat\n",
    "file_path = 'data/results-for-socio-legal-t-2022-09-29-0916.sav'\n",
    "df, meta = pyreadstat.read_sav(file_path)\n",
    "\n",
    "# Descriptive statistics for all numeric columns\n",
    "desc_stats = df.describe()\n",
    "print(desc_stats)"
   ],
   "metadata": {
    "collapsed": false,
    "ExecuteTime": {
     "start_time": "2023-04-14T12:41:02.352383Z",
     "end_time": "2023-04-14T12:41:04.721556Z"
    }
   }
  },
  {
   "cell_type": "code",
   "execution_count": null,
   "outputs": [],
   "source": [],
   "metadata": {
    "collapsed": false
   }
  }
 ],
 "metadata": {
  "kernelspec": {
   "display_name": "Python 3",
   "language": "python",
   "name": "python3"
  },
  "language_info": {
   "codemirror_mode": {
    "name": "ipython",
    "version": 2
   },
   "file_extension": ".py",
   "mimetype": "text/x-python",
   "name": "python",
   "nbconvert_exporter": "python",
   "pygments_lexer": "ipython2",
   "version": "2.7.6"
  }
 },
 "nbformat": 4,
 "nbformat_minor": 0
}
