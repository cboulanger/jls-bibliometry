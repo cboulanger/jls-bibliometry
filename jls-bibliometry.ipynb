{
 "cells": [
  {
   "cell_type": "markdown",
   "metadata": {},
   "source": [
    "# JLS bibliometry"
   ]
  },
  {
   "cell_type": "markdown",
   "metadata": {},
   "source": [
    "## Preparation"
   ]
  },
  {
   "cell_type": "code",
   "execution_count": null,
   "outputs": [],
   "source": [],
   "metadata": {
    "collapsed": false
   }
  },
  {
   "cell_type": "code",
   "execution_count": null,
   "metadata": {
    "ExecuteTime": {
     "start_time": "2023-06-16T07:55:03.507673Z",
     "end_time": "2023-06-16T07:55:03.631419Z"
    }
   },
   "outputs": [],
   "source": [
    "# Uncomment and run once\n",
    "# if you use vanilla python:\n",
    "#   !pip install py2neo python-dotenv pandas pyvis ipywidgets\n",
    "# OR if you use anaconda:\n",
    "#   !conda install -c conda-forge py2neo python-dotenv ipywidgets\n",
    "#   !conda install panda pyvis\n",
    "# for table of contents support, see https://github.com/ipython-contrib/jupyter_contrib_nbextensions"
   ]
  },
  {
   "cell_type": "markdown",
   "source": [
    "## Most published JLS authors (crossref.org)"
   ],
   "metadata": {
    "collapsed": false
   }
  },
  {
   "cell_type": "code",
   "execution_count": null,
   "outputs": [],
   "source": [
    "query =\"\"\"\n",
    "match (a:Author)-[:CREATOR_OF]->(w:Work)-[:PUBLISHED_IN]->(:Venue {id: 'j law soc'})\n",
    "where w.url <> \"\" and a.display_name <> \"\"\n",
    "return a.display_name as Author, count(distinct w) as PublicationCount\n",
    "order by PublicationCount desc\n",
    "limit 100\n",
    "\"\"\"\n",
    "from scripts.utils import get_graph\n",
    "get_graph(\"jls2\").run(query).to_data_frame()"
   ],
   "metadata": {
    "collapsed": false,
    "ExecuteTime": {
     "start_time": "2023-06-16T20:56:01.971051Z",
     "end_time": "2023-06-16T20:56:02.254703Z"
    }
   }
  },
  {
   "cell_type": "markdown",
   "source": [
    "## Most-published authors, timeseries (crossref.org)"
   ],
   "metadata": {
    "collapsed": false
   }
  },
  {
   "cell_type": "code",
   "execution_count": null,
   "outputs": [],
   "source": [
    "query =\"\"\"\n",
    "match (a:Author)-[:CREATOR_OF]->(w:Work)\n",
    "where a.family <> \"no_author\" and a.display_name <> \"\"\n",
    "    and ((w)-[:PUBLISHED_IN]->(:Venue {id: 'j law soc'}) or\n",
    "    (w)-[:PUBLISHED_IN]->(:Venue {id: 'br j law soc'}))\n",
    "with a, count(distinct w) as count\n",
    "order by count desc\n",
    "limit 20\n",
    "match (a)-[:CREATOR_OF]->(w:Work)-[:PUBLISHED_IN]->(:Venue {id: 'j law soc'})\n",
    "return a.display_name as author,\n",
    "    w.year as year,\n",
    "    count(distinct w) as count\n",
    "\"\"\"\n",
    "from scripts.utils import get_graph\n",
    "from scripts.occurrence_by_year_scatter import plot_by_year\n",
    "data = get_graph(\"jls2\").run(query).to_data_frame()\n",
    "plot_by_year(data, dep_col='author', dep_label=\"Author\",\n",
    "             file=\"docs/jls-ts-most-published-authors.png\",\n",
    "             title=\"JLS most published authors (crossref.org)\")"
   ],
   "metadata": {
    "collapsed": false,
    "ExecuteTime": {
     "start_time": "2023-06-18T19:09:14.474878Z",
     "end_time": "2023-06-18T19:09:15.619866Z"
    }
   }
  },
  {
   "cell_type": "markdown",
   "source": [
    "## Network of most-published authors with the JLS authors they cite most, per decade (>2 citations, extraction data)"
   ],
   "metadata": {
    "collapsed": false
   }
  },
  {
   "cell_type": "code",
   "execution_count": null,
   "outputs": [],
   "source": [
    "query = \"\"\"\n",
    "// find all authors who have published in the JLS in the given period, and use the 20 most-published ones\n",
    "match (a1:Author)-[:CREATOR_OF]->(w:Work)\n",
    "where a1.family <> \"no_author\" and a1.display_name <> \"\"\n",
    "    and w.year >= $year_start AND w.year <= $year_end\n",
    "    and ((w)-[:PUBLISHED_IN]->(:Venue {id: 'j law soc'}) or (w)-[:PUBLISHED_IN]->(:Venue {id: 'br j law soc'}))\n",
    "with a1, count(distinct w) as count\n",
    "order by count desc\n",
    "limit 20\n",
    "\n",
    "// style the nodes to reflect the number of publications\n",
    "set a1.value = count\n",
    "set a1.group = \"citingAuthor\"\n",
    "set a1.label = (a1.display_name + \"\\n(\" + toString(count) + \" publications)\")\n",
    "\n",
    "// find the authors cited most by these most-published authors in their work in the given period\n",
    "with a1\n",
    "call {\n",
    "    with a1\n",
    "    match (a1)-[:CREATOR_OF]->(w1:Work)-[citation:CITES]->(w2:Work)<-[:CREATOR_OF]-(a2:Author)\n",
    "    where a2.family <> \"no_author\" and a2.display_name <> \"\"\n",
    "        and w1.year >= $year_start AND w1.year <= $year_end\n",
    "        and a1 <> a2\n",
    "        and ((w1)-[:PUBLISHED_IN]->(:Venue {id: 'j law soc'}) or (w1)-[:PUBLISHED_IN]->(:Venue {id: 'br j law soc'}))\n",
    "    with a2, count(citation) as citCount\n",
    "    where citCount > 2\n",
    "    with a2\n",
    "    // size the cited author's node according to the total amount of citations of this author in the given period\n",
    "    call {\n",
    "        with a2\n",
    "        match (a1:Author)-[:CREATOR_OF]->(:Work)-[citation:CITES]->(citedWork:Work)<-[:CREATOR_OF]-(a2)\n",
    "        where citedWork.year >= $year_start AND citedWork.year <= $year_end\n",
    "            and a1 <> a2\n",
    "        with a2, count(citation) as citationCount\n",
    "        set a2.value = citationCount\n",
    "    }\n",
    "    return a2\n",
    "}\n",
    "set a2.group = CASE WHEN exists(a2.group) THEN a2.group ELSE \"citedAuthor\" END\n",
    "with a1, a2\n",
    "match (a1)-[:CREATOR_OF]->(w1:Work)-[citation:CITES]->(w2:Work)<-[:CREATOR_OF]-(a2)\n",
    "where w1.year >= $year_start AND w1.year <= $year_end\n",
    "    and ((w1)-[:PUBLISHED_IN]->(:Venue {id: 'j law soc'}) or (w1)-[:PUBLISHED_IN]->(:Venue {id: 'br j law soc'}))\n",
    "with a1, a2, count(citation) as citationCount\n",
    "return a1,\n",
    "    apoc.create.vRelationship(a1, 'CITES', {value: citationCount, label:toString(citationCount)}, a2),\n",
    "    a2\n",
    "\"\"\"\n",
    "from scripts.pyvis import create_timeseries\n",
    "from scripts.utils import get_graph\n",
    "graph = get_graph(\"jls2\")\n",
    "create_timeseries(graph, query,\n",
    "                  file_id=\"jls-most-published-with-cited-authors\",\n",
    "                  title=\"JLS most published authors with main cited authors\")\n",
    "graph.run(\"match (a:Author) remove a.value, a.label, a.group\")"
   ],
   "metadata": {
    "collapsed": false,
    "ExecuteTime": {
     "start_time": "2023-06-19T09:47:18.247603Z",
     "end_time": "2023-06-19T09:47:24.990837Z"
    }
   }
  },
  {
   "cell_type": "markdown",
   "source": [
    "## Network of top 10 most cited authors of each decade with 10 most-citing authors (extraction data)"
   ],
   "metadata": {
    "collapsed": false
   }
  },
  {
   "cell_type": "code",
   "execution_count": null,
   "outputs": [],
   "source": [
    "query = \"\"\"\n",
    "// find all cited works that were cited in the given period, excluding self-citations\n",
    "MATCH (citingAuthor)-[:CREATOR_OF]->(citingWork:Work)-[citation:CITES]->(citedWork:Work)<-[:CREATOR_OF]-(citedAuthor:Author)\n",
    "WHERE citingWork.year >= $year_start AND citingWork.year <= $year_end\n",
    "    AND citingAuthor.family <> \"no_author\" AND citingAuthor.display_name <> \"\"\n",
    "    AND citedAuthor.family <> \"no_author\" AND citedAuthor.display_name <> \"\"\n",
    "    AND citingAuthor <> citedAuthor\n",
    "\n",
    "// get the 10 most-cited authors\n",
    "WITH citedAuthor, count(distinct citation) as citationCount\n",
    "ORDER BY citationCount DESC\n",
    "LIMIT 10\n",
    "\n",
    "// add the total citation count to the label and size the author node according to this amount\n",
    "set citedAuthor.label = (citedAuthor.display_name + \"\\n(\" + toString(citationCount) + \" citations)\")\n",
    "set citedAuthor.value = citationCount\n",
    "set citedAuthor.group = \"citedAuthor\"\n",
    "\n",
    "// get the 10 authors that cite these authors most in the given period\n",
    "with citedAuthor\n",
    "CALL {\n",
    "    WITH citedAuthor\n",
    "    MATCH (citingAuthor)-[:CREATOR_OF]->(citingWork:Work)-[citation:CITES]->(citedWork:Work)<-[:CREATOR_OF]-(citedAuthor)\n",
    "    WHERE citingWork.year >= $year_start AND citingWork.year <= $year_end\n",
    "    and citingAuthor.family <> \"no_author\" AND citingAuthor.display_name <> \"\"\n",
    "    with citingAuthor, count(citation) as citationCount\n",
    "    // and style their node according to their own citation weight in that period\n",
    "    CALL {\n",
    "        WITH citingAuthor\n",
    "        OPTIONAL MATCH (:Work)-[citation:CITES]->(citedWork:Work)<-[:CREATOR_OF]-(citingAuthor)\n",
    "        WITH citingAuthor, count(citation) as citationCount\n",
    "        SET citingAuthor.value = citationCount\n",
    "        SET citingAuthor.group = CASE WHEN exists(citingAuthor.group) THEN citingAuthor.group ELSE \"citingAuthor\" END\n",
    "    }\n",
    "    return citingAuthor\n",
    "    order by citationCount desc\n",
    "    limit 10\n",
    "}\n",
    "\n",
    "// count the number of citations between citing and cited author in the given period of time and create relationships\n",
    "WITH citedAuthor, citingAuthor\n",
    "MATCH path = (citedAuthor)-[:CREATOR_OF]->(citedWork:Work)<-[citation:CITES]-(citingWork:Work)<-[:CREATOR_OF]-(citingAuthor)\n",
    "WHERE citingWork.year >= $year_start AND citingWork.year <= $year_end\n",
    "WITH citedAuthor, citingAuthor, COUNT(citation) AS citationCount\n",
    "\n",
    "// return nodes and a virtual relationships between them\n",
    "RETURN citingAuthor,\n",
    "    apoc.create.vRelationship(citingAuthor, 'CITES', {value: citationCount, label:toString(citationCount)}, citedAuthor),\n",
    "    citedAuthor\n",
    "\n",
    "\"\"\"\n",
    "from scripts.utils import get_graph\n",
    "from scripts.pyvis import create_timeseries\n",
    "graph = get_graph(\"jls2\")\n",
    "create_timeseries(graph, query,\n",
    "                  file_id=\"jls-most-cited-with-most-citing\",\n",
    "                  title=\"JLS most-cited authors with most-citing authors\")\n",
    "graph.run(\"match (a:Author) remove a.group, a.label, a.value, a.title\")"
   ],
   "metadata": {
    "collapsed": false,
    "ExecuteTime": {
     "start_time": "2023-06-19T09:47:24.993838Z",
     "end_time": "2023-06-19T09:47:29.596341Z"
    }
   }
  },
  {
   "cell_type": "markdown",
   "source": [
    "## Co-Citation network (extraction data)\n"
   ],
   "metadata": {
    "collapsed": false
   }
  },
  {
   "cell_type": "code",
   "execution_count": null,
   "outputs": [],
   "source": [
    "query = \"\"\"\n",
    "MATCH p=(a1:Author)-[:CREATOR_OF]->(:Work)<-[:CITES]-(:Work)-[:CITES]->(:Work)<-[:CREATOR_OF]-(a2:Author)\n",
    "where a1.family <> \"no_author\" and a2.family <> \"no_author\" and a1.display_name <> \"\" and a2.display_name <> \"\"\n",
    "with a1, a2, COUNT(distinct p) as co_citations\n",
    "where id(a1) < id(a2) AND co_citations >= 100\n",
    "set a1.group =\"\", a2.group=\"\"\n",
    "with a1, a2, co_citations\n",
    "CALL apoc.create.vRelationship(a1, \"IS_COCITED_WITH\", {value: co_citations, label: toString(co_citations)}, a2)\n",
    "YIELD rel\n",
    "RETURN a1, rel, a2\n",
    "ORDER BY rel.value DESC\n",
    "\"\"\"\n",
    "from scripts.pyvis import draw\n",
    "from scripts.utils import get_graph\n",
    "graph = get_graph(\"jls2\")\n",
    "draw(graph, query,\n",
    "     title=\"JLS co-citation network for >= 100 co-citations\",\n",
    "     file=\"docs/jls-co-citation-network.html\", height=\"800px\",\n",
    "     seed=2, link_only=True)"
   ],
   "metadata": {
    "collapsed": false,
    "ExecuteTime": {
     "start_time": "2023-06-16T12:17:24.284821Z",
     "end_time": "2023-06-16T12:17:40.678937Z"
    }
   }
  },
  {
   "cell_type": "markdown",
   "source": [
    "## Most-cited authors, table (extraction data)"
   ],
   "metadata": {
    "collapsed": false
   }
  },
  {
   "cell_type": "code",
   "execution_count": null,
   "outputs": [],
   "source": [
    "query = \"\"\"\n",
    "match (citingWork:Work)-[r:CITES]->(citedWork:Work)<-[:CREATOR_OF]-(citedAuthor:Author)\n",
    "where citedAuthor.family <> \"no_author\" and citedAuthor.display_name <> \"\"\n",
    "return citedAuthor.display_name as `Author`, count(*) as `Citation count`\n",
    "order by `Citation count` desc\n",
    "limit 30\n",
    "\"\"\"\n",
    "from scripts.utils import get_graph\n",
    "graph = get_graph(\"jls2\")\n",
    "df = graph.run(query).to_data_frame()\n",
    "df"
   ],
   "metadata": {
    "collapsed": false,
    "ExecuteTime": {
     "start_time": "2023-06-19T09:51:38.721192Z",
     "end_time": "2023-06-19T09:51:39.020197Z"
    }
   }
  },
  {
   "cell_type": "code",
   "execution_count": null,
   "outputs": [],
   "source": [
    "import matplotlib.pyplot as plt\n",
    "df = df.sort_values('Citation count', ascending=True)\n",
    "plt.barh(df['Author'], df['Citation count'])\n",
    "plt.xlabel('Citation count')\n",
    "plt.ylabel('Author')\n",
    "plt.title('Author Citation Count')\n",
    "plt.savefig(\"docs/jls-most-cited-authors.png\", bbox_inches=\"tight\")\n",
    "plt.show()"
   ],
   "metadata": {
    "collapsed": false,
    "ExecuteTime": {
     "start_time": "2023-06-19T09:51:43.376863Z",
     "end_time": "2023-06-19T09:51:44.046946Z"
    }
   }
  },
  {
   "cell_type": "markdown",
   "source": [
    "## Most-cited authors, timeseries (extraction data)"
   ],
   "metadata": {
    "collapsed": false
   }
  },
  {
   "cell_type": "code",
   "execution_count": null,
   "outputs": [],
   "source": [
    "query = \"\"\"\n",
    "match (citingWork:Work)-[r:CITES]->(citedWork:Work)<-[:CREATOR_OF]-(citedAuthor:Author)\n",
    "where citedAuthor.family <> \"no_author\" and citedAuthor.display_name <> \"\"\n",
    "with citedAuthor, count(r) as citationCount\n",
    "order by citationCount desc\n",
    "limit 30\n",
    "match (citingWork:Work)-[r:CITES]->(citedWork:Work)<-[:CREATOR_OF]-(citedAuthor)\n",
    "RETURN citedAuthor.display_name as author,\n",
    "    citingWork.year as year,\n",
    "    count(r) as count\n",
    "order by year\n",
    "\"\"\"\n",
    "from scripts.utils import get_graph\n",
    "from scripts.occurrence_by_year_scatter import plot_by_year\n",
    "graph = get_graph(\"jls2\")\n",
    "data = graph.run(query).to_data_frame()\n",
    "plot_by_year(data, dep_col=\"author\", dep_label=\"Author\",\n",
    "             file=\"docs/jls-ts-most-cited.png\",\n",
    "             title=\"\")"
   ],
   "metadata": {
    "collapsed": false,
    "ExecuteTime": {
     "start_time": "2023-06-19T09:52:01.124827Z",
     "end_time": "2023-06-19T09:52:02.262366Z"
    }
   }
  },
  {
   "cell_type": "code",
   "execution_count": null,
   "outputs": [],
   "source": [],
   "metadata": {
    "collapsed": false
   }
  },
  {
   "cell_type": "markdown",
   "source": [
    "## Most-cited journals"
   ],
   "metadata": {
    "collapsed": false
   }
  },
  {
   "cell_type": "code",
   "execution_count": null,
   "outputs": [],
   "source": [
    "query = \"\"\"\n",
    "match (citingWork:Work)-[r:CITES]->(:Work)-[:PUBLISHED_IN]-(citedVenue:Venue)\n",
    "where exists((citingWork)-[:PUBLISHED_IN]->(:Venue {id:\"j law soc\"}))\n",
    "return citedVenue.name as `Journal name`, count(r) as `Citation count`\n",
    "order by `Citation count` desc\n",
    "limit 20\n",
    "\"\"\"\n",
    "from scripts.utils import get_graph\n",
    "graph = get_graph(\"jls2\")\n",
    "df = graph.run(query).to_data_frame()\n",
    "df"
   ],
   "metadata": {
    "collapsed": false,
    "ExecuteTime": {
     "start_time": "2023-06-16T12:48:33.881789Z",
     "end_time": "2023-06-16T12:48:34.098001Z"
    }
   }
  },
  {
   "cell_type": "code",
   "execution_count": null,
   "outputs": [],
   "source": [
    "import matplotlib.pyplot as plt\n",
    "df = df.sort_values('Citation count', ascending=True)\n",
    "plt.barh(df['Journal name'], df['Citation count'])\n",
    "plt.xlabel('Citation count')\n",
    "plt.ylabel('Journal name')\n",
    "plt.title('Most-cited journals in the JLS (extraction data)')\n",
    "plt.savefig(\"docs/jls-most-cited-journals.png\", bbox_inches=\"tight\")\n",
    "plt.show()"
   ],
   "metadata": {
    "collapsed": false,
    "ExecuteTime": {
     "start_time": "2023-06-16T07:56:01.982364Z",
     "end_time": "2023-06-16T07:56:02.322287Z"
    }
   }
  },
  {
   "cell_type": "markdown",
   "source": [
    "## Most-cited journals (WOS)"
   ],
   "metadata": {
    "collapsed": false
   }
  },
  {
   "cell_type": "code",
   "execution_count": null,
   "outputs": [],
   "source": [
    "query = \"\"\"\n",
    "match (citingWork:Work)-[r:CITES]->(:Work)-[:PUBLISHED_IN]-(citedVenue:Venue)\n",
    "where exists((citingWork)-[:PUBLISHED_IN]->(:Venue {name:\"JOURNAL OF LAW AND SOCIETY\"}))\n",
    "return toLower(citedVenue.name) as `Journal name`, count(r) as `Citation count`\n",
    "order by `Citation count` desc\n",
    "limit 20\n",
    "\"\"\"\n",
    "from scripts.utils import get_graph\n",
    "graph = get_graph(\"jls-journal-network\")\n",
    "df = graph.run(query).to_data_frame()\n",
    "df"
   ],
   "metadata": {
    "collapsed": false,
    "ExecuteTime": {
     "start_time": "2023-06-16T07:56:02.306665Z",
     "end_time": "2023-06-16T07:56:05.277804Z"
    }
   }
  },
  {
   "cell_type": "code",
   "execution_count": null,
   "outputs": [],
   "source": [
    "df = df.sort_values('Citation count', ascending=True)\n",
    "plt.barh(df['Journal name'], df['Citation count'])\n",
    "plt.xlabel('Citation count')\n",
    "plt.ylabel('Journal name')\n",
    "plt.title('Most-cited journals in the JLS (Web of Science)')\n",
    "plt.savefig(\"docs/jls-most-cited-journals-wos.png\", bbox_inches=\"tight\")\n",
    "plt.show()"
   ],
   "metadata": {
    "collapsed": false,
    "ExecuteTime": {
     "start_time": "2023-06-16T07:56:03.353328Z",
     "end_time": "2023-06-16T07:56:05.277804Z"
    }
   }
  },
  {
   "cell_type": "markdown",
   "source": [
    "## Most-citing journals (WOS)"
   ],
   "metadata": {
    "collapsed": false
   }
  },
  {
   "cell_type": "code",
   "execution_count": null,
   "outputs": [],
   "source": [
    "query = \"\"\"\n",
    "with \"this is only to trigger syntax highlighting\" as ignore\n",
    "match (citedWork:Work)<-[r:CITES]-(:Work)-[:PUBLISHED_IN]-(citingVenue:Venue)\n",
    "where exists((citedWork)-[:PUBLISHED_IN]->(:Venue {name:\"JOURNAL OF LAW AND SOCIETY\"}))\n",
    "return toLower(citingVenue.name) as `Journal name`, count(r) as `Citation count`\n",
    "order by `Citation count` desc\n",
    "limit 20\n",
    "\"\"\"\n",
    "from scripts.utils import get_graph\n",
    "graph = get_graph(\"jls-journal-network\")\n",
    "df = graph.run(query).to_data_frame()\n",
    "df"
   ],
   "metadata": {
    "collapsed": false,
    "ExecuteTime": {
     "start_time": "2023-06-16T07:56:04.664116Z",
     "end_time": "2023-06-16T07:56:05.907885Z"
    }
   }
  },
  {
   "cell_type": "code",
   "execution_count": null,
   "outputs": [],
   "source": [
    "df = df.sort_values('Citation count', ascending=True)\n",
    "plt.barh(df['Journal name'], df['Citation count'])\n",
    "plt.xlabel('Citation count')\n",
    "plt.ylabel('Journal name')\n",
    "plt.title('Journals citing the JLS most (Web of Science)')\n",
    "plt.savefig(\"docs/jls-most-citing-journals-wos.png\", bbox_inches=\"tight\")\n",
    "plt.show()"
   ],
   "metadata": {
    "collapsed": false,
    "ExecuteTime": {
     "start_time": "2023-06-16T07:56:05.479746Z",
     "end_time": "2023-06-16T07:56:06.404113Z"
    }
   }
  },
  {
   "cell_type": "markdown",
   "source": [
    "## Socio-legal journal citation network (hand-picked), over time (WOS)"
   ],
   "metadata": {
    "collapsed": false
   }
  },
  {
   "cell_type": "code",
   "execution_count": null,
   "outputs": [],
   "source": [
    "query = \"\"\"\n",
    "with [\n",
    "    'journal of law and society',\n",
    "    'social & legal studies',\n",
    "    'law and critique',\n",
    "    'feminist legal studies',\n",
    "    'international journal of law in context',\n",
    "    'british journal of criminology',\n",
    "    'law & society review',\n",
    "    'law and social inquiry-journal of the american bar foundation'\n",
    "] as journals\n",
    "\n",
    "match  p=(citingVenue:Venue)<-[:PUBLISHED_IN]-(citingWork:Work)-[:CITES]->(:Work)-[:PUBLISHED_IN]->(citedVenue:Venue)\n",
    "where toLower(citingVenue.name) in journals and toLower(citedVenue.name) in journals\n",
    "    and (toLower(citingVenue.name) = 'journal of law and society' or toLower(citedVenue.name) = 'journal of law and society')\n",
    "    and citingWork.year >= $year_start and citingWork.year <= $year_end\n",
    "    and citingVenue <> citedVenue\n",
    "with citingVenue, citedVenue, count(p) as pathCount\n",
    "call {\n",
    "    with citingVenue\n",
    "    optional match (:Venue)<-[:PUBLISHED_IN]-(:Work)-[citation:CITES]->(work:Work)-[:PUBLISHED_IN]->(citingVenue)\n",
    "    where work.year >= $year_start and work.year <= $year_end\n",
    "    with citingVenue, count(citation) as citationCount\n",
    "    set citingVenue.value = citationCount\n",
    "    set citingVenue.label = toLower(citingVenue.name)\n",
    "}\n",
    "call {\n",
    "    with citedVenue\n",
    "    optional match (:Venue)<-[:PUBLISHED_IN]-(:Work)-[citation:CITES]->(work:Work)-[:PUBLISHED_IN]->(citedVenue)\n",
    "    where work.year >= $year_start and work.year <= $year_end\n",
    "    with citedVenue, count(citation) as citationCount\n",
    "    set citedVenue.value = citationCount\n",
    "    set citedVenue.label = toLower(citedVenue.name)\n",
    "}\n",
    "return citingVenue,\n",
    "    citedVenue,\n",
    "    apoc.create.vRelationship(citingVenue, 'CITES', {value: pathCount, label: toString(pathCount)}, citedVenue)\n",
    "\"\"\"\n",
    "from scripts.utils import get_graph\n",
    "from scripts.pyvis import create_timeseries\n",
    "graph = get_graph(\"jls-journal-network\")\n",
    "create_timeseries(graph, query,\n",
    "                  file_id=\"jls-socio-legal-network-selected\",\n",
    "                  title=\"Socio-legal journal network: selected journals\",\n",
    "                  caption=\"Journals have been manually selected. Size of the nodes represent the total citations of the journal in the dataset in the given period. Source: Web of Science. \")\n",
    "graph.run(\"match (v:Venue) remove v.value, v.label\")\n"
   ],
   "metadata": {
    "collapsed": false,
    "ExecuteTime": {
     "start_time": "2023-06-19T14:19:03.439301Z",
     "end_time": "2023-06-19T14:19:07.428300Z"
    }
   }
  },
  {
   "cell_type": "markdown",
   "source": [
    "## Socio-legal network: top-twenty \"close\" journals (WOS)"
   ],
   "metadata": {
    "collapsed": false
   }
  },
  {
   "cell_type": "code",
   "execution_count": 1,
   "outputs": [
    {
     "data": {
      "text/plain": "<IPython.core.display.HTML object>",
      "text/html": "<a href=\"https://cboulanger.github.io/jls-bibliometry/jls-socio-legal-network-top-20-1974-1983.html\" target=\"_blank\">Click here to open jls-socio-legal-network-top-20-1974-1983.html.</a>"
     },
     "metadata": {},
     "output_type": "display_data"
    },
    {
     "data": {
      "text/plain": "<IPython.core.display.HTML object>",
      "text/html": "<a href=\"https://cboulanger.github.io/jls-bibliometry/jls-socio-legal-network-top-20-1984-1993.html\" target=\"_blank\">Click here to open jls-socio-legal-network-top-20-1984-1993.html.</a>"
     },
     "metadata": {},
     "output_type": "display_data"
    },
    {
     "data": {
      "text/plain": "<IPython.core.display.HTML object>",
      "text/html": "<a href=\"https://cboulanger.github.io/jls-bibliometry/jls-socio-legal-network-top-20-1994-2003.html\" target=\"_blank\">Click here to open jls-socio-legal-network-top-20-1994-2003.html.</a>"
     },
     "metadata": {},
     "output_type": "display_data"
    },
    {
     "data": {
      "text/plain": "<IPython.core.display.HTML object>",
      "text/html": "<a href=\"https://cboulanger.github.io/jls-bibliometry/jls-socio-legal-network-top-20-2004-2013.html\" target=\"_blank\">Click here to open jls-socio-legal-network-top-20-2004-2013.html.</a>"
     },
     "metadata": {},
     "output_type": "display_data"
    },
    {
     "data": {
      "text/plain": "<IPython.core.display.HTML object>",
      "text/html": "<a href=\"https://cboulanger.github.io/jls-bibliometry/jls-socio-legal-network-top-20-2014-2023.html\" target=\"_blank\">Click here to open jls-socio-legal-network-top-20-2014-2023.html.</a>"
     },
     "metadata": {},
     "output_type": "display_data"
    },
    {
     "data": {
      "text/plain": "(No data)",
      "text/html": "(No data)"
     },
     "execution_count": 1,
     "metadata": {},
     "output_type": "execute_result"
    }
   ],
   "source": [
    "query = \"\"\"with \"cypher\" as syntax\n",
    "//-- get the top 20 cited/citing in the given period\n",
    "match (citedWork:Work)<-[r:CITES]-(citingWork:Work)-[:PUBLISHED_IN]-(citingVenue:Venue)\n",
    "where (exists((citedWork)-[:PUBLISHED_IN]->(:Venue {name:\"JOURNAL OF LAW AND SOCIETY\"}))\n",
    "        and citedWork.year >= $year_start and citedWork.year <= $year_end)\n",
    "    or (exists((citingWork)-[:PUBLISHED_IN]->(:Venue {name:\"JOURNAL OF LAW AND SOCIETY\"}))\n",
    "        and citingWork.year >= $year_start and citingWork.year <= $year_end)\n",
    "with toLower(citingVenue.name) as journal, count(r) as citationCount\n",
    "order by citationCount desc\n",
    "limit 20\n",
    "with collect(journal) as journals\n",
    "\n",
    "match  p=(citingVenue:Venue)<-[:PUBLISHED_IN]-(citingWork:Work)-[:CITES]->(:Work)-[:PUBLISHED_IN]->(citedVenue:Venue)\n",
    "where toLower(citingVenue.name) in journals and toLower(citedVenue.name) in journals\n",
    "    and citingWork.year >= $year_start and citingWork.year <= $year_end\n",
    "    and citingVenue <> citedVenue\n",
    "with citingVenue, citedVenue, count(p) as pathCount\n",
    "with citingVenue, citedVenue, pathCount\n",
    "call {\n",
    "    with citingVenue\n",
    "    optional match (:Venue)<-[:PUBLISHED_IN]-(:Work)-[citation:CITES]->(work:Work)-[:PUBLISHED_IN]->(citingVenue)\n",
    "    where work.year >= $year_start and work.year <= $year_end\n",
    "    with citingVenue, count(citation) as citationCount\n",
    "    set citingVenue.value = citationCount\n",
    "    set citingVenue.label = toLower(citingVenue.name)\n",
    "    set citingVenue.group = case when citingVenue.label = \"journal of law and society\" then \"jls\" else null end\n",
    "}\n",
    "call {\n",
    "    with citedVenue\n",
    "    optional match (:Venue)<-[:PUBLISHED_IN]-(:Work)-[citation:CITES]->(work:Work)-[:PUBLISHED_IN]->(citedVenue)\n",
    "    where work.year >= $year_start and work.year <= $year_end\n",
    "    with citedVenue, count(citation) as citationCount\n",
    "    set citedVenue.value = citationCount\n",
    "    set citedVenue.label = toLower(citedVenue.name)\n",
    "    set citedVenue.group = case when citedVenue.label = \"journal of law and society\" then \"jls\" else null end\n",
    "}\n",
    "return citingVenue, citedVenue,\n",
    "    apoc.create.vRelationship(\n",
    "        citingVenue,\n",
    "        'CITES', {\n",
    "            value: pathCount,\n",
    "            label: toString(pathCount)\n",
    "        },\n",
    "        citedVenue)\n",
    "\"\"\"\n",
    "from scripts.utils import get_graph\n",
    "from scripts.pyvis import create_timeseries\n",
    "graph = get_graph(\"jls-journal-network\")\n",
    "create_timeseries(graph, query,\n",
    "                  file_id=\"jls-socio-legal-network-top-20\",\n",
    "                  title=\"Socio-legal journal network, 20 closest journals\",\n",
    "                  seed=1,\n",
    "                  caption=\"Included are the 20 journals most cited by the JLS or citing the JLS most in the given period. Size of the nodes represent the total citations of the journal in the dataset in the given period. Source: Web of Science.\")\n",
    "graph.run(\"match (v:Venue) remove v.value, v.label\")"
   ],
   "metadata": {
    "collapsed": false,
    "ExecuteTime": {
     "start_time": "2023-06-21T14:47:00.326311Z",
     "end_time": "2023-06-21T14:47:52.541984Z"
    }
   }
  },
  {
   "cell_type": "markdown",
   "source": [
    "## Author network (Cownie/Bradney)"
   ],
   "metadata": {
    "collapsed": false
   }
  },
  {
   "cell_type": "code",
   "execution_count": null,
   "outputs": [],
   "source": [
    "query = \"\"\"\n",
    "MATCH path=(a1:Author)-[:CREATOR_OF]->(w1:Work)-[c:CITES]->(w2:Work)<-[:CREATOR_OF]-(a2:Author)\n",
    "WHERE a1.family = \"cownie\" OR a2.family = \"cownie\" or a1.family = \"bradney\" OR a2.family = \"bradney\"\n",
    "    and ((w1)-[:PUBLISHED_IN]->(:Venue {id:\"j law soc\"}) or (w2)-[:PUBLISHED_IN]->(:Venue {id:\"j law soc\"}))\n",
    "WITH a1, a2, count(c) as citations\n",
    "WHERE citations >= 4\n",
    "WITH collect(a1) + collect(a2) as authorNetwork, citations\n",
    "UNWIND authorNetwork as authors\n",
    "MATCH p2=(authors)-[:CREATOR_OF]->(:Work)-[c:CITES]->(:Work)<-[:CREATOR_OF]-(citingAuthor:Author)\n",
    "WHERE citingAuthor in authorNetwork\n",
    "WITH authors, citingAuthor, count(c) as citations\n",
    "where authors.family <> \"no_author\" and citingAuthor.family <> \"no_author\" and authors <> citingAuthor\n",
    "RETURN authors as source_node,\n",
    "    apoc.create.vRelationship(authors, 'CITES', {value: citations}, citingAuthor) as rel,\n",
    "    citingAuthor as target_node\n",
    "\"\"\"\n",
    "from scripts.pyvis import draw\n",
    "from scripts.utils import get_graph\n",
    "draw(get_graph(\"jls2\"), query)"
   ],
   "metadata": {
    "collapsed": false,
    "ExecuteTime": {
     "start_time": "2023-06-19T14:10:02.145978Z",
     "end_time": "2023-06-19T14:10:03.030983Z"
    }
   }
  }
 ],
 "metadata": {
  "kernelspec": {
   "display_name": "Python 3 (ipykernel)",
   "language": "python",
   "name": "python3"
  },
  "language_info": {
   "codemirror_mode": {
    "name": "ipython",
    "version": 3
   },
   "file_extension": ".py",
   "mimetype": "text/x-python",
   "name": "python",
   "nbconvert_exporter": "python",
   "pygments_lexer": "ipython3",
   "version": "3.9.7"
  },
  "toc": {
   "base_numbering": 1,
   "nav_menu": {},
   "number_sections": true,
   "sideBar": true,
   "skip_h1_title": false,
   "title_cell": "Table of Contents",
   "title_sidebar": "Contents",
   "toc_cell": false,
   "toc_position": {},
   "toc_section_display": true,
   "toc_window_display": false
  }
 },
 "nbformat": 4,
 "nbformat_minor": 1
}
