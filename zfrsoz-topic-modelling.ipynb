{
 "cells": [
  {
   "cell_type": "markdown",
   "metadata": {
    "collapsed": false
   },
   "source": [
    "# ZfRsoz topic modelling"
   ]
  },
  {
   "cell_type": "markdown",
   "metadata": {
    "collapsed": false
   },
   "source": [
    "## Setup\n",
    "\n",
    "For this notebook, you need [BERTopic](https://maartengr.github.io/BERTopic/index.html). Because of its dependencies, installation isn't completely straightforward on the different platforms."
   ]
  },
  {
   "cell_type": "code",
   "execution_count": 79,
   "metadata": {
    "ExecuteTime": {
     "end_time": "2023-06-19T15:16:18.455947Z",
     "start_time": "2023-06-19T15:16:18.433948Z"
    },
    "collapsed": false
   },
   "outputs": [],
   "source": [
    "# nlp\n",
    "# on Windows the use of conda was required:  conda install -c conda-forge hdbscan ipywidgets iprogress\n",
    "# pip install bertopic nltk tqdm python-dotenv matplotlib hf_xet tabulate\n",
    "#import nltk\n",
    "#nltk.download('punkt')\n",
    "#nltk.download('stopwords')\n"
   ]
  },
  {
   "cell_type": "markdown",
   "metadata": {
    "collapsed": false
   },
   "source": [
    "## Load or generate article dataset"
   ]
  },
  {
   "cell_type": "code",
   "execution_count": null,
   "metadata": {
    "ExecuteTime": {
     "end_time": "2023-10-04T14:45:30.300207100Z",
     "start_time": "2023-10-04T14:45:30.196159800Z"
    },
    "collapsed": false
   },
   "outputs": [
    {
     "name": "stderr",
     "output_type": "stream",
     "text": [
      "100%|██████████| 731/731 [01:24<00:00,  8.68it/s]\n"
     ]
    },
    {
     "name": "stdout",
     "output_type": "stream",
     "text": [
      "Corpus has 698 articles from 1980 to 2019. Date information is missing for 0 articles.\n"
     ]
    }
   ],
   "source": [
    "# Suppress the NumbaDeprecationWarning\n",
    "import warnings\n",
    "from numba import NumbaDeprecationWarning\n",
    "warnings.filterwarnings(\"ignore\", category=NumbaDeprecationWarning)\n",
    "\n",
    "import os, re, pickle\n",
    "from tqdm import tqdm\n",
    "from nltk.corpus import stopwords as stop_words\n",
    "from datetime import datetime\n",
    "from IPython.display import SVG, HTML, Image, display\n",
    "import pandas as pd\n",
    "from dotenv import load_dotenv\n",
    "from string import punctuation\n",
    "\n",
    "load_dotenv()\n",
    "\n",
    "# Load the articles\n",
    "if not os.path.exists('cache/zfrsoz-articles.pkl'):\n",
    "    corpus_dir = os.getenv(\"ZFRSOZ_CORPUS_DIR\")\n",
    "    if corpus_dir is None or corpus_dir == \"\":\n",
    "        raise RuntimeError(\"You need to set the ZFRSOZ_CORPUS_DIR environment variable in .env\")\n",
    "    stopwords=set(stop_words.words('german') + stop_words.words(\"english\"))\n",
    "    # remove noise words\n",
    "    stopwords.update({\"rechtssoziologie\", \"dr\",\t\"prof\", \"lucius\",\"universitt\", \"recht\", \"rechts\", \"fakultt\", \"vgl\",\t\"ff\", \n",
    "                      \"mehr\", \"hrsg\", \"wurde\", \"nicht\", \"kol\", \"et\", \"wurden\",\"de\", \"la\", \"eg\", \"universität\",\n",
    "                    \"halle\", \"uni\", \"bitte\", \"autoren\", \"autorinnen\", \"sollten\", \"brunschwig\", \n",
    "                    \"emas\", \"nr\", \"xi\", \"kapitel\", \"rezensionen\", \"buch\", \"ute\", \"scherzberg\", \"stefan\"\n",
    "                    \"lucius\", \"stuttgart\", \"bora\", \"workshop\", \"law\", \"legal\", \"recht\", \"fakultät\",\n",
    "                    \"universität\", \"universities\", \"university\", \"bochum\", \"berlin\", \"zeitschrift\",\n",
    "                    \"barch\", \"sapmo\", \"machura\", \"isbn\", \"isbn\", \"doi\", \"doi\", \"https\", \"www\", \"fish\", \"tel\"\n",
    "                    \"bielefeld\", \"telefon\", \"sei\", \"stefan\", \"manuskripte\", \"etwa\", \"erhard\",\n",
    "                    \"max\", \"treiber\", \"tabelle\", \"kamel\", \"maiwald\", \"gephart\",\"gumbel\", \"blankenburg\",\n",
    "                    \"teubner\", \"weber\", \"webers\", \"luhmann\", \"kaupen\", \"siehe\", \"new\",\"bverfge\", \"englischer\",\n",
    "                    \"gegebenenfalls\", \"hesc\", \"recht\",\"droit\", \"zeitschrift\", \"zeitschriften\",\n",
    "                    \"anonymisierten\", \"rechtschreibung\", \"einreichung\", \"one\", \"heft\", \"armin\", \"email\", \"tel\",\n",
    "                    \"graphiken\", \"tabellen\", \"beachten\", \"schen\", \"rice\", \"jutta\", \"limbach\", \"toa\",\n",
    "                    \"hirsch\", \"ehrlich\", \"raiser\", \"struck\", \"johannes\", \"niklas\", \"schon\", \"wolfgang\"\n",
    "                    \"jansen\", \"lehrstuhl\",\"wolfgang\", \"see\", \"literaturverzeichnis\", \"immer\", \"dabei\"\n",
    "                    \"dorothea\", \"jansen\", \"höland\", \"eigentlich\", \"foucault\"})\n",
    "    articles = []\n",
    "    timestamps = []\n",
    "    not_found = []\n",
    "    words = set()\n",
    "    files = os.listdir(corpus_dir)\n",
    "    if len(files) == 0:\n",
    "        raise RuntimeError(f\"Directory {corpus_dir} is empty\")\n",
    "    for filename in tqdm(files):\n",
    "        if filename.endswith(\".txt\"):\n",
    "            with open(os.path.join(corpus_dir, filename), \"r\", encoding=\"utf-8\") as f:\n",
    "                article = f.read()\n",
    "                if \"Hinweise für Autor\" in article or \\\n",
    "                    \"Richtlinien für Autor\" in article or \\\n",
    "                    \"Silbentrennung\" in article:\n",
    "                    continue\n",
    "                tmp_article = []\n",
    "                doi = filename.strip(\".txt\").replace(\"_\",\"/\")\n",
    "                year = int(filename.split(\"-\")[1])\n",
    "                # only use articles for which we have a year\n",
    "                if year > 0:\n",
    "                    timestamp = datetime.strptime(str(year), '%Y').date()\n",
    "                    timestamps.append(timestamp)\n",
    "                    for word in str(article).split():\n",
    "                        # remove tokens containing numbers or punctuation or those in the list of stopwords\n",
    "                        word = word.strip(punctuation).strip()\n",
    "                        if len(word) > 2 and not re.search(f'[{punctuation}\\\\d]', word) and word.lower() not in stopwords:\n",
    "                            # we need to check if the stopwords aren't in the word to remove plurals or misspelled words\n",
    "                            if not any(stopword in word for stopword in stopwords if len(stopword) > 5):\n",
    "                                tmp_article.append(word)\n",
    "                                words.add(word)\n",
    "                    articles.append(' '.join(tmp_article))\n",
    "                else:\n",
    "                    not_found.append(doi)\n",
    "        else: \n",
    "            print(f'Ignoring {filename}')\n",
    "    if len(timestamps) == 0:\n",
    "        raise RuntimeError(\"No timestamps found, check your data.\")\n",
    "    earliest_year = min(timestamps).strftime('%Y')\n",
    "    latest_year = max(timestamps).strftime('%Y')\n",
    "    with open('cache/zfrsoz-articles.pkl', 'wb') as f:\n",
    "        pickle.dump((articles, earliest_year, latest_year, not_found, timestamps), f)\n",
    "else:\n",
    "    with open('cache/zfrsoz-articles.pkl', 'rb') as file:\n",
    "        articles, earliest_year, latest_year, not_found, timestamps = pickle.load(file)\n",
    "\n",
    "print(f\"Corpus has {len(articles)} articles from {earliest_year} to {latest_year}. Date information is missing for {len(not_found)} articles.\")"
   ]
  },
  {
   "cell_type": "markdown",
   "metadata": {
    "collapsed": false
   },
   "source": [
    "## Load or generate model"
   ]
  },
  {
   "cell_type": "code",
   "execution_count": 81,
   "metadata": {
    "ExecuteTime": {
     "end_time": "2023-10-03T16:04:51.239942Z",
     "start_time": "2023-10-03T16:04:50.373241Z"
    }
   },
   "outputs": [
    {
     "name": "stderr",
     "output_type": "stream",
     "text": [
      "2025-05-20 22:23:02,563 - BERTopic - Embedding - Transforming documents to embeddings.\n"
     ]
    },
    {
     "data": {
      "application/vnd.jupyter.widget-view+json": {
       "model_id": "ce17e3470f604c4b90ed8fea345feb54",
       "version_major": 2,
       "version_minor": 0
      },
      "text/plain": [
       "Batches:   0%|          | 0/22 [00:00<?, ?it/s]"
      ]
     },
     "metadata": {},
     "output_type": "display_data"
    },
    {
     "name": "stderr",
     "output_type": "stream",
     "text": [
      "2025-05-20 22:23:36,929 - BERTopic - Embedding - Completed ✓\n",
      "2025-05-20 22:23:36,929 - BERTopic - Dimensionality - Fitting the dimensionality reduction algorithm\n",
      "2025-05-20 22:23:37,543 - BERTopic - Dimensionality - Completed ✓\n",
      "2025-05-20 22:23:37,543 - BERTopic - Cluster - Start clustering the reduced embeddings\n",
      "2025-05-20 22:23:37,560 - BERTopic - Cluster - Completed ✓\n",
      "2025-05-20 22:23:37,560 - BERTopic - Representation - Fine-tuning topics using representation models.\n",
      "2025-05-20 22:23:40,437 - BERTopic - Representation - Completed ✓\n"
     ]
    }
   ],
   "source": [
    "\n",
    "from sentence_transformers import SentenceTransformer\n",
    "from bertopic import BERTopic\n",
    "#from umap import UMAP\n",
    "#from hdbscan import HDBSCAN\n",
    "\n",
    "if not os.path.exists('cache/zfrsoz-bertopic-data.pkl'):\n",
    "    embedding_model = SentenceTransformer('distiluse-base-multilingual-cased-v1')\n",
    "#    umap_model = UMAP(n_neighbors=15, n_components=5, min_dist=0.0, metric='cosine', random_state=42)\n",
    "#    hdbscan_model = HDBSCAN(min_cluster_size=100, metric='euclidean', cluster_selection_method='eom', prediction_data=True)\n",
    "    model = BERTopic(\n",
    "        embedding_model=embedding_model,\n",
    "#        umap_model=umap_model, \n",
    "#        hdbscan_model=hdbscan_model, \n",
    "        min_topic_size = 6, \n",
    "        verbose=True)\n",
    "    topics, probs = model.fit_transform(articles)\n",
    "    with open('cache/zfrsoz-bertopic-data.pkl', 'wb') as f:\n",
    "        pickle.dump((model, topics, probs), f)\n",
    "else:\n",
    "    with open('cache/zfrsoz-bertopic-data.pkl', 'rb') as f:\n",
    "        model, topics, probs = pickle.load(f)"
   ]
  },
  {
   "cell_type": "markdown",
   "metadata": {
    "collapsed": false
   },
   "source": [
    "## Generate topic table"
   ]
  },
  {
   "cell_type": "code",
   "execution_count": 82,
   "metadata": {
    "ExecuteTime": {
     "end_time": "2023-10-03T16:33:19.138916Z",
     "start_time": "2023-10-03T16:33:19.077750Z"
    }
   },
   "outputs": [
    {
     "data": {
      "application/vnd.microsoft.datawrangler.viewer.v0+json": {
       "columns": [
        {
         "name": "index",
         "rawType": "int64",
         "type": "integer"
        },
        {
         "name": "No",
         "rawType": "int64",
         "type": "integer"
        },
        {
         "name": "KW1",
         "rawType": "object",
         "type": "string"
        },
        {
         "name": "KW2",
         "rawType": "object",
         "type": "string"
        },
        {
         "name": "KW3",
         "rawType": "object",
         "type": "string"
        },
        {
         "name": "KW4",
         "rawType": "object",
         "type": "string"
        },
        {
         "name": "Count",
         "rawType": "int64",
         "type": "integer"
        }
       ],
       "conversionMethod": "pd.DataFrame",
       "ref": "6c1c231a-bf5c-45a3-81fd-ae6cf857c7e9",
       "rows": [
        [
         "1",
         "1",
         "verfahren",
         "court",
         "justice",
         "richter",
         "56"
        ],
        [
         "2",
         "2",
         "gerechtigkeit",
         "system",
         "form",
         "theorie",
         "34"
        ],
        [
         "3",
         "3",
         "gewalt",
         "criminal",
         "kriminalität",
         "crime",
         "31"
        ],
        [
         "4",
         "4",
         "knowledge",
         "foucault",
         "verfassung",
         "unofficial",
         "29"
        ],
        [
         "5",
         "5",
         "frauen",
         "frau",
         "männer",
         "geschlecht",
         "27"
        ],
        [
         "6",
         "6",
         "juristen",
         "soziologie",
         "frage",
         "forschung",
         "27"
        ],
        [
         "7",
         "7",
         "bielefeld",
         "juristische",
         "plett",
         "konstanze",
         "23"
        ],
        [
         "8",
         "8",
         "sgb",
         "gewerkschaften",
         "arbeitnehmer",
         "kündigung",
         "21"
        ],
        [
         "9",
         "9",
         "internet",
         "regulation",
         "international",
         "electronic",
         "20"
        ],
        [
         "10",
         "10",
         "transnational",
         "international",
         "unternehmen",
         "global",
         "17"
        ],
        [
         "11",
         "11",
         "preis",
         "sektion",
         "rechtswissenschaft",
         "soziologie",
         "16"
        ],
        [
         "12",
         "12",
         "beschuldigten",
         "verantwortung",
         "dolmetscher",
         "befragten",
         "16"
        ],
        [
         "13",
         "13",
         "ehe",
         "scheidung",
         "unterhalt",
         "frauen",
         "15"
        ],
        [
         "14",
         "14",
         "rationalität",
         "steuerung",
         "gesellschaft",
         "bewilligt",
         "15"
        ],
        [
         "15",
         "15",
         "privatschulen",
         "schulen",
         "risk",
         "betreuung",
         "13"
        ],
        [
         "16",
         "16",
         "rechtsforschung",
         "forschung",
         "cause",
         "raum",
         "12"
        ],
        [
         "17",
         "17",
         "litigation",
         "mediation",
         "theory",
         "social",
         "11"
        ],
        [
         "18",
         "18",
         "menschenrechte",
         "human",
         "rights",
         "weltgesellschaft",
         "9"
        ],
        [
         "19",
         "19",
         "refugee",
         "refugees",
         "staaten",
         "klägerinnen",
         "9"
        ],
        [
         "20",
         "20",
         "research",
         "human",
         "embryos",
         "court",
         "9"
        ],
        [
         "21",
         "21",
         "schuldner",
         "gläubiger",
         "schuldbeitreibung",
         "debt",
         "8"
        ],
        [
         "22",
         "22",
         "bundesverfassungsgericht",
         "entscheidung",
         "entscheidungen",
         "eigenzeit",
         "8"
        ],
        [
         "23",
         "23",
         "ddr",
         "eingaben",
         "konfliktkommissionen",
         "bevölkerung",
         "8"
        ],
        [
         "24",
         "24",
         "angeklagten",
         "jugendstrafrecht",
         "stpo",
         "jgg",
         "7"
        ],
        [
         "25",
         "25",
         "pﬂege",
         "berichterstatter",
         "senat",
         "interview",
         "7"
        ],
        [
         "26",
         "26",
         "international",
         "kündigungsschutz",
         "völkerrecht",
         "internationalen",
         "7"
        ],
        [
         "27",
         "27",
         "verfassung",
         "macht",
         "verfassungen",
         "volkssouveränität",
         "7"
        ],
        [
         "28",
         "28",
         "integration",
         "individualisierung",
         "stadtplanung",
         "stadt",
         "6"
        ]
       ],
       "shape": {
        "columns": 6,
        "rows": 28
       }
      },
      "text/html": [
       "<div>\n",
       "<style scoped>\n",
       "    .dataframe tbody tr th:only-of-type {\n",
       "        vertical-align: middle;\n",
       "    }\n",
       "\n",
       "    .dataframe tbody tr th {\n",
       "        vertical-align: top;\n",
       "    }\n",
       "\n",
       "    .dataframe thead th {\n",
       "        text-align: right;\n",
       "    }\n",
       "</style>\n",
       "<table border=\"1\" class=\"dataframe\">\n",
       "  <thead>\n",
       "    <tr style=\"text-align: right;\">\n",
       "      <th></th>\n",
       "      <th>No</th>\n",
       "      <th>KW1</th>\n",
       "      <th>KW2</th>\n",
       "      <th>KW3</th>\n",
       "      <th>KW4</th>\n",
       "      <th>Count</th>\n",
       "    </tr>\n",
       "  </thead>\n",
       "  <tbody>\n",
       "    <tr>\n",
       "      <th>1</th>\n",
       "      <td>1</td>\n",
       "      <td>verfahren</td>\n",
       "      <td>court</td>\n",
       "      <td>justice</td>\n",
       "      <td>richter</td>\n",
       "      <td>56</td>\n",
       "    </tr>\n",
       "    <tr>\n",
       "      <th>2</th>\n",
       "      <td>2</td>\n",
       "      <td>gerechtigkeit</td>\n",
       "      <td>system</td>\n",
       "      <td>form</td>\n",
       "      <td>theorie</td>\n",
       "      <td>34</td>\n",
       "    </tr>\n",
       "    <tr>\n",
       "      <th>3</th>\n",
       "      <td>3</td>\n",
       "      <td>gewalt</td>\n",
       "      <td>criminal</td>\n",
       "      <td>kriminalität</td>\n",
       "      <td>crime</td>\n",
       "      <td>31</td>\n",
       "    </tr>\n",
       "    <tr>\n",
       "      <th>4</th>\n",
       "      <td>4</td>\n",
       "      <td>knowledge</td>\n",
       "      <td>foucault</td>\n",
       "      <td>verfassung</td>\n",
       "      <td>unofficial</td>\n",
       "      <td>29</td>\n",
       "    </tr>\n",
       "    <tr>\n",
       "      <th>5</th>\n",
       "      <td>5</td>\n",
       "      <td>frauen</td>\n",
       "      <td>frau</td>\n",
       "      <td>männer</td>\n",
       "      <td>geschlecht</td>\n",
       "      <td>27</td>\n",
       "    </tr>\n",
       "    <tr>\n",
       "      <th>6</th>\n",
       "      <td>6</td>\n",
       "      <td>juristen</td>\n",
       "      <td>soziologie</td>\n",
       "      <td>frage</td>\n",
       "      <td>forschung</td>\n",
       "      <td>27</td>\n",
       "    </tr>\n",
       "    <tr>\n",
       "      <th>7</th>\n",
       "      <td>7</td>\n",
       "      <td>bielefeld</td>\n",
       "      <td>juristische</td>\n",
       "      <td>plett</td>\n",
       "      <td>konstanze</td>\n",
       "      <td>23</td>\n",
       "    </tr>\n",
       "    <tr>\n",
       "      <th>8</th>\n",
       "      <td>8</td>\n",
       "      <td>sgb</td>\n",
       "      <td>gewerkschaften</td>\n",
       "      <td>arbeitnehmer</td>\n",
       "      <td>kündigung</td>\n",
       "      <td>21</td>\n",
       "    </tr>\n",
       "    <tr>\n",
       "      <th>9</th>\n",
       "      <td>9</td>\n",
       "      <td>internet</td>\n",
       "      <td>regulation</td>\n",
       "      <td>international</td>\n",
       "      <td>electronic</td>\n",
       "      <td>20</td>\n",
       "    </tr>\n",
       "    <tr>\n",
       "      <th>10</th>\n",
       "      <td>10</td>\n",
       "      <td>transnational</td>\n",
       "      <td>international</td>\n",
       "      <td>unternehmen</td>\n",
       "      <td>global</td>\n",
       "      <td>17</td>\n",
       "    </tr>\n",
       "    <tr>\n",
       "      <th>11</th>\n",
       "      <td>11</td>\n",
       "      <td>preis</td>\n",
       "      <td>sektion</td>\n",
       "      <td>rechtswissenschaft</td>\n",
       "      <td>soziologie</td>\n",
       "      <td>16</td>\n",
       "    </tr>\n",
       "    <tr>\n",
       "      <th>12</th>\n",
       "      <td>12</td>\n",
       "      <td>beschuldigten</td>\n",
       "      <td>verantwortung</td>\n",
       "      <td>dolmetscher</td>\n",
       "      <td>befragten</td>\n",
       "      <td>16</td>\n",
       "    </tr>\n",
       "    <tr>\n",
       "      <th>13</th>\n",
       "      <td>13</td>\n",
       "      <td>ehe</td>\n",
       "      <td>scheidung</td>\n",
       "      <td>unterhalt</td>\n",
       "      <td>frauen</td>\n",
       "      <td>15</td>\n",
       "    </tr>\n",
       "    <tr>\n",
       "      <th>14</th>\n",
       "      <td>14</td>\n",
       "      <td>rationalität</td>\n",
       "      <td>steuerung</td>\n",
       "      <td>gesellschaft</td>\n",
       "      <td>bewilligt</td>\n",
       "      <td>15</td>\n",
       "    </tr>\n",
       "    <tr>\n",
       "      <th>15</th>\n",
       "      <td>15</td>\n",
       "      <td>privatschulen</td>\n",
       "      <td>schulen</td>\n",
       "      <td>risk</td>\n",
       "      <td>betreuung</td>\n",
       "      <td>13</td>\n",
       "    </tr>\n",
       "    <tr>\n",
       "      <th>16</th>\n",
       "      <td>16</td>\n",
       "      <td>rechtsforschung</td>\n",
       "      <td>forschung</td>\n",
       "      <td>cause</td>\n",
       "      <td>raum</td>\n",
       "      <td>12</td>\n",
       "    </tr>\n",
       "    <tr>\n",
       "      <th>17</th>\n",
       "      <td>17</td>\n",
       "      <td>litigation</td>\n",
       "      <td>mediation</td>\n",
       "      <td>theory</td>\n",
       "      <td>social</td>\n",
       "      <td>11</td>\n",
       "    </tr>\n",
       "    <tr>\n",
       "      <th>18</th>\n",
       "      <td>18</td>\n",
       "      <td>menschenrechte</td>\n",
       "      <td>human</td>\n",
       "      <td>rights</td>\n",
       "      <td>weltgesellschaft</td>\n",
       "      <td>9</td>\n",
       "    </tr>\n",
       "    <tr>\n",
       "      <th>19</th>\n",
       "      <td>19</td>\n",
       "      <td>refugee</td>\n",
       "      <td>refugees</td>\n",
       "      <td>staaten</td>\n",
       "      <td>klägerinnen</td>\n",
       "      <td>9</td>\n",
       "    </tr>\n",
       "    <tr>\n",
       "      <th>20</th>\n",
       "      <td>20</td>\n",
       "      <td>research</td>\n",
       "      <td>human</td>\n",
       "      <td>embryos</td>\n",
       "      <td>court</td>\n",
       "      <td>9</td>\n",
       "    </tr>\n",
       "    <tr>\n",
       "      <th>21</th>\n",
       "      <td>21</td>\n",
       "      <td>schuldner</td>\n",
       "      <td>gläubiger</td>\n",
       "      <td>schuldbeitreibung</td>\n",
       "      <td>debt</td>\n",
       "      <td>8</td>\n",
       "    </tr>\n",
       "    <tr>\n",
       "      <th>22</th>\n",
       "      <td>22</td>\n",
       "      <td>bundesverfassungsgericht</td>\n",
       "      <td>entscheidung</td>\n",
       "      <td>entscheidungen</td>\n",
       "      <td>eigenzeit</td>\n",
       "      <td>8</td>\n",
       "    </tr>\n",
       "    <tr>\n",
       "      <th>23</th>\n",
       "      <td>23</td>\n",
       "      <td>ddr</td>\n",
       "      <td>eingaben</td>\n",
       "      <td>konfliktkommissionen</td>\n",
       "      <td>bevölkerung</td>\n",
       "      <td>8</td>\n",
       "    </tr>\n",
       "    <tr>\n",
       "      <th>24</th>\n",
       "      <td>24</td>\n",
       "      <td>angeklagten</td>\n",
       "      <td>jugendstrafrecht</td>\n",
       "      <td>stpo</td>\n",
       "      <td>jgg</td>\n",
       "      <td>7</td>\n",
       "    </tr>\n",
       "    <tr>\n",
       "      <th>25</th>\n",
       "      <td>25</td>\n",
       "      <td>pﬂege</td>\n",
       "      <td>berichterstatter</td>\n",
       "      <td>senat</td>\n",
       "      <td>interview</td>\n",
       "      <td>7</td>\n",
       "    </tr>\n",
       "    <tr>\n",
       "      <th>26</th>\n",
       "      <td>26</td>\n",
       "      <td>international</td>\n",
       "      <td>kündigungsschutz</td>\n",
       "      <td>völkerrecht</td>\n",
       "      <td>internationalen</td>\n",
       "      <td>7</td>\n",
       "    </tr>\n",
       "    <tr>\n",
       "      <th>27</th>\n",
       "      <td>27</td>\n",
       "      <td>verfassung</td>\n",
       "      <td>macht</td>\n",
       "      <td>verfassungen</td>\n",
       "      <td>volkssouveränität</td>\n",
       "      <td>7</td>\n",
       "    </tr>\n",
       "    <tr>\n",
       "      <th>28</th>\n",
       "      <td>28</td>\n",
       "      <td>integration</td>\n",
       "      <td>individualisierung</td>\n",
       "      <td>stadtplanung</td>\n",
       "      <td>stadt</td>\n",
       "      <td>6</td>\n",
       "    </tr>\n",
       "  </tbody>\n",
       "</table>\n",
       "</div>"
      ],
      "text/plain": [
       "    No                       KW1                 KW2                   KW3  \\\n",
       "1    1                 verfahren               court               justice   \n",
       "2    2             gerechtigkeit              system                  form   \n",
       "3    3                    gewalt            criminal          kriminalität   \n",
       "4    4                 knowledge            foucault            verfassung   \n",
       "5    5                    frauen                frau                männer   \n",
       "6    6                  juristen          soziologie                 frage   \n",
       "7    7                 bielefeld         juristische                 plett   \n",
       "8    8                       sgb      gewerkschaften          arbeitnehmer   \n",
       "9    9                  internet          regulation         international   \n",
       "10  10             transnational       international           unternehmen   \n",
       "11  11                     preis             sektion    rechtswissenschaft   \n",
       "12  12             beschuldigten       verantwortung           dolmetscher   \n",
       "13  13                       ehe           scheidung             unterhalt   \n",
       "14  14              rationalität           steuerung          gesellschaft   \n",
       "15  15             privatschulen             schulen                  risk   \n",
       "16  16           rechtsforschung           forschung                 cause   \n",
       "17  17                litigation           mediation                theory   \n",
       "18  18            menschenrechte               human                rights   \n",
       "19  19                   refugee            refugees               staaten   \n",
       "20  20                  research               human               embryos   \n",
       "21  21                 schuldner           gläubiger     schuldbeitreibung   \n",
       "22  22  bundesverfassungsgericht        entscheidung        entscheidungen   \n",
       "23  23                       ddr            eingaben  konfliktkommissionen   \n",
       "24  24               angeklagten    jugendstrafrecht                  stpo   \n",
       "25  25                     pﬂege    berichterstatter                 senat   \n",
       "26  26             international    kündigungsschutz           völkerrecht   \n",
       "27  27                verfassung               macht          verfassungen   \n",
       "28  28               integration  individualisierung          stadtplanung   \n",
       "\n",
       "                  KW4  Count  \n",
       "1             richter     56  \n",
       "2             theorie     34  \n",
       "3               crime     31  \n",
       "4          unofficial     29  \n",
       "5          geschlecht     27  \n",
       "6           forschung     27  \n",
       "7           konstanze     23  \n",
       "8           kündigung     21  \n",
       "9          electronic     20  \n",
       "10             global     17  \n",
       "11         soziologie     16  \n",
       "12          befragten     16  \n",
       "13             frauen     15  \n",
       "14          bewilligt     15  \n",
       "15          betreuung     13  \n",
       "16               raum     12  \n",
       "17             social     11  \n",
       "18   weltgesellschaft      9  \n",
       "19        klägerinnen      9  \n",
       "20              court      9  \n",
       "21               debt      8  \n",
       "22          eigenzeit      8  \n",
       "23        bevölkerung      8  \n",
       "24                jgg      7  \n",
       "25          interview      7  \n",
       "26    internationalen      7  \n",
       "27  volkssouveränität      7  \n",
       "28              stadt      6  "
      ]
     },
     "execution_count": 82,
     "metadata": {},
     "output_type": "execute_result"
    }
   ],
   "source": [
    "df = model.get_topic_info()\n",
    "# Filter out rows with negative topic numbers\n",
    "df = df[df['Topic'] >= 0]\n",
    "\n",
    "# Split the 'Name' column into its constituent parts\n",
    "df[['No', 'KW1', 'KW2', 'KW3', 'KW4']] = df['Name'].str.split('_', expand=True)\n",
    "\n",
    "# Convert 'No' column to integer and add 1\n",
    "df['No'] = df['No'].astype(int) + 1\n",
    "\n",
    "# Drop the original 'Name' and 'Topic' columns\n",
    "df = df.drop(columns=['Name', 'Topic'])\n",
    "\n",
    "# Reorder columns\n",
    "df = df[['No', 'KW1', 'KW2', 'KW3', 'KW4', 'Count']]\n",
    "\n",
    "# save it\n",
    "df.to_html('docs/zfrsoz-topic-models.html', index=False)\n",
    "df.to_markdown('docs/zfrsoz-topic-models.md', index=False)\n",
    "df"
   ]
  },
  {
   "cell_type": "markdown",
   "metadata": {
    "collapsed": false
   },
   "source": []
  },
  {
   "cell_type": "markdown",
   "metadata": {
    "collapsed": false
   },
   "source": [
    "## Load or generate topics over time data"
   ]
  },
  {
   "cell_type": "code",
   "execution_count": 83,
   "metadata": {
    "ExecuteTime": {
     "end_time": "2023-10-04T14:18:10.100367800Z",
     "start_time": "2023-10-04T14:18:08.274848800Z"
    },
    "collapsed": false
   },
   "outputs": [
    {
     "name": "stderr",
     "output_type": "stream",
     "text": [
      "39it [00:22,  1.75it/s]\n"
     ]
    }
   ],
   "source": [
    "import os, pickle\n",
    "if not os.path.exists(\"cache/zfrsoz-topics-over-time.pkl\"):\n",
    "    topics_over_time = model.topics_over_time(articles, timestamps)\n",
    "    with open(\"cache/zfrsoz-topics-over-time.pkl\", \"wb\") as f:\n",
    "        pickle.dump(topics_over_time, f)\n",
    "else:\n",
    "    with open('cache/zfrsoz-topics-over-time.pkl', 'rb') as file:\n",
    "        topics_over_time = pickle.load(file)"
   ]
  },
  {
   "cell_type": "code",
   "execution_count": 84,
   "metadata": {
    "ExecuteTime": {
     "end_time": "2023-10-04T14:24:00.272050200Z",
     "start_time": "2023-10-04T14:24:00.240774700Z"
    },
    "collapsed": false
   },
   "outputs": [
    {
     "data": {
      "application/vnd.microsoft.datawrangler.viewer.v0+json": {
       "columns": [
        {
         "name": "index",
         "rawType": "int64",
         "type": "integer"
        },
        {
         "name": "Topic",
         "rawType": "int64",
         "type": "integer"
        },
        {
         "name": "Words",
         "rawType": "object",
         "type": "string"
        },
        {
         "name": "Frequency",
         "rawType": "int64",
         "type": "integer"
        },
        {
         "name": "Timestamp",
         "rawType": "object",
         "type": "unknown"
        }
       ],
       "conversionMethod": "pd.DataFrame",
       "ref": "d373ebbe-1791-4e99-abc4-e8085322eba1",
       "rows": [
        [
         "0",
         "-1",
         "rechtsinstanzen, gruppenöffentlichkeit, normbrecher, opfer, professionellen",
         "2",
         "1980-01-01"
        ],
        [
         "1",
         "0",
         "gericht, parteien, gluckman, gerichte, streitregelung",
         "3",
         "1980-01-01"
        ],
        [
         "2",
         "3",
         "rechtsvergleichung, vergleichende, comparative, oben, ländern",
         "2",
         "1980-01-01"
        ],
        [
         "3",
         "4",
         "frauen, frau, rechtsbewußtsein, ich, männer",
         "1",
         "1980-01-01"
        ],
        [
         "4",
         "5",
         "ccls, baibus, critical, juristen, klare",
         "1",
         "1980-01-01"
        ],
        [
         "5",
         "7",
         "agv, uimm, gewerkschaften, interview, justizpolitik",
         "1",
         "1980-01-01"
        ],
        [
         "6",
         "10",
         "gruppe, vereinigung, vorstände, forschungsgruppe, papers",
         "1",
         "1980-01-01"
        ],
        [
         "7",
         "-1",
         "podgorecki, kutschinsky, kwasniewski, opinion, kojder",
         "4",
         "1981-01-01"
        ],
        [
         "8",
         "0",
         "justiz, aussperrung, gewerkschaften, verfahren, arbeitnehmer",
         "3",
         "1981-01-01"
        ],
        [
         "9",
         "7",
         "gewerkschaften, gewerkschaftlichen, gewerkschaftliche, arbeitnehmer, legalismus",
         "2",
         "1981-01-01"
        ],
        [
         "10",
         "13",
         "system, politik, gesellschaft, theorie, entscheidungen",
         "2",
         "1981-01-01"
        ],
        [
         "11",
         "-1",
         "consumer, klienten, anwalt, klient, rules",
         "4",
         "1982-01-01"
        ],
        [
         "12",
         "0",
         "interessen, richter, action, organisationen, prozeßformen",
         "3",
         "1982-01-01"
        ],
        [
         "13",
         "2",
         "kriminologie, bianchi, synchronische, zeit, herman",
         "1",
         "1982-01-01"
        ],
        [
         "14",
         "3",
         "unofficial, official, postulates, jural, may",
         "3",
         "1982-01-01"
        ],
        [
         "15",
         "5",
         "smaus, soziologie, gerlinda, köln, bourdieu",
         "2",
         "1982-01-01"
        ],
        [
         "16",
         "7",
         "geschäftsstellen, zuarbeit, schreibautomaten, schreibwerk, organisation",
         "1",
         "1982-01-01"
        ],
        [
         "17",
         "10",
         "preis, sektion, rechtswissenschaft, soziologie, sozialwissenschaft",
         "1",
         "1982-01-01"
        ],
        [
         "18",
         "11",
         "traditionellen, beziehungen, gesellschaften, sozialen, kontrolle",
         "2",
         "1982-01-01"
        ],
        [
         "19",
         "13",
         "verrechtlichung, regelungen, rechtlicher, rechtlichen, habermas",
         "1",
         "1982-01-01"
        ],
        [
         "20",
         "14",
         "schwester, mutter, familie, vater, querulanten",
         "1",
         "1982-01-01"
        ],
        [
         "21",
         "-1",
         "anwaltschaft, rechtshilfe, anwälte, niederlanden, advokatur",
         "1",
         "1983-01-01"
        ],
        [
         "22",
         "0",
         "verfahren, mieter, gericht, prozesse, amtsgericht",
         "3",
         "1983-01-01"
        ],
        [
         "23",
         "7",
         "ausgang, kündigungsschutzklagen, klagenden, kündigung, rechtsvertretung",
         "1",
         "1983-01-01"
        ],
        [
         "24",
         "12",
         "scheidung, scheidungsfolgen, parteien, gerichtliche, ehe",
         "1",
         "1983-01-01"
        ],
        [
         "25",
         "16",
         "litigation, theory, social, behavior, relationships",
         "1",
         "1983-01-01"
        ],
        [
         "26",
         "20",
         "schuldner, schuldbeitreibung, gläubiger, schulden, debt",
         "3",
         "1983-01-01"
        ],
        [
         "27",
         "-1",
         "macht, potestas, gesellschaft, widerstandsrecht, widerstand",
         "1",
         "1984-01-01"
        ],
        [
         "28",
         "4",
         "frauen, frauenforschung, frau, männer, einrichtungen",
         "4",
         "1984-01-01"
        ],
        [
         "29",
         "7",
         "kündigung, arbeitnehmer, kündigungen, kündigungsschutzklagen, arbeitsgerichte",
         "4",
         "1984-01-01"
        ],
        [
         "30",
         "12",
         "frau, ehe, unterhalt, frauen, scheidung",
         "2",
         "1984-01-01"
        ],
        [
         "31",
         "13",
         "teilsysteme, steuerung, selbststeuerung, teile, gesellschaftliche",
         "1",
         "1984-01-01"
        ],
        [
         "32",
         "24",
         "kündigungsschutzgesetzes, arbeitnehmer, kündigung, ebenda, kschg",
         "1",
         "1984-01-01"
        ],
        [
         "33",
         "-1",
         "culture, entwicklung, social, gesellschaft, deutschland",
         "8",
         "1985-01-01"
        ],
        [
         "34",
         "1",
         "systeme, theorie, system, systemtheorie, reflexives",
         "3",
         "1985-01-01"
        ],
        [
         "35",
         "4",
         "frauen, männer, speziellen, münch, smaus",
         "2",
         "1985-01-01"
        ],
        [
         "36",
         "5",
         "forschung, ankündigungen, jahrestagung, berichte, tagung",
         "1",
         "1985-01-01"
        ],
        [
         "37",
         "10",
         "preis, sektion, rechtswissenschaft, soziologie, sozialwissenschaft",
         "1",
         "1985-01-01"
        ],
        [
         "38",
         "11",
         "einschätzung, strafen, variablen, strafübel, schulbildung",
         "1",
         "1985-01-01"
        ],
        [
         "39",
         "12",
         "frauen, ehe, unterhalt, divorce, regelungen",
         "1",
         "1985-01-01"
        ],
        [
         "40",
         "-1",
         "schlichtung, adams, gulliver, rechtsschutzversicherungen, zfrsoz",
         "8",
         "1986-01-01"
        ],
        [
         "41",
         "0",
         "parteien, anspruchsteller, adams, anspruchsgegner, zivilprozeß",
         "3",
         "1986-01-01"
        ],
        [
         "42",
         "1",
         "eder, rationalität, kommunikativ, schen, nikolaus",
         "1",
         "1986-01-01"
        ],
        [
         "43",
         "3",
         "eder, rationalität, weiß, insb, prozedurale",
         "1",
         "1986-01-01"
        ],
        [
         "44",
         "12",
         "folgesachen, verbund, scheidung, ehegattenunterhalt, prozeßkostenhilfe",
         "1",
         "1986-01-01"
        ],
        [
         "45",
         "13",
         "rationalität, rationalisierung, theorie, rechtssystem, eder",
         "1",
         "1986-01-01"
        ],
        [
         "46",
         "23",
         "jugendstrafrecht, jgg, jugendliche, entwicklung, rjgg",
         "1",
         "1986-01-01"
        ],
        [
         "47",
         "-1",
         "rationalität, profession, anwaltschaft, autorität, prozedurale",
         "3",
         "1987-01-01"
        ],
        [
         "48",
         "4",
         "frauen, männer, angeklagten, männern, thematisierungen",
         "1",
         "1987-01-01"
        ],
        [
         "49",
         "7",
         "arbeitsbeziehungen, industrial, gewerkschaften, relations, britischen",
         "1",
         "1987-01-01"
        ]
       ],
       "shape": {
        "columns": 4,
        "rows": 322
       }
      },
      "text/html": [
       "<div>\n",
       "<style scoped>\n",
       "    .dataframe tbody tr th:only-of-type {\n",
       "        vertical-align: middle;\n",
       "    }\n",
       "\n",
       "    .dataframe tbody tr th {\n",
       "        vertical-align: top;\n",
       "    }\n",
       "\n",
       "    .dataframe thead th {\n",
       "        text-align: right;\n",
       "    }\n",
       "</style>\n",
       "<table border=\"1\" class=\"dataframe\">\n",
       "  <thead>\n",
       "    <tr style=\"text-align: right;\">\n",
       "      <th></th>\n",
       "      <th>Topic</th>\n",
       "      <th>Words</th>\n",
       "      <th>Frequency</th>\n",
       "      <th>Timestamp</th>\n",
       "    </tr>\n",
       "  </thead>\n",
       "  <tbody>\n",
       "    <tr>\n",
       "      <th>0</th>\n",
       "      <td>-1</td>\n",
       "      <td>rechtsinstanzen, gruppenöffentlichkeit, normbr...</td>\n",
       "      <td>2</td>\n",
       "      <td>1980-01-01</td>\n",
       "    </tr>\n",
       "    <tr>\n",
       "      <th>1</th>\n",
       "      <td>0</td>\n",
       "      <td>gericht, parteien, gluckman, gerichte, streitr...</td>\n",
       "      <td>3</td>\n",
       "      <td>1980-01-01</td>\n",
       "    </tr>\n",
       "    <tr>\n",
       "      <th>2</th>\n",
       "      <td>3</td>\n",
       "      <td>rechtsvergleichung, vergleichende, comparative...</td>\n",
       "      <td>2</td>\n",
       "      <td>1980-01-01</td>\n",
       "    </tr>\n",
       "    <tr>\n",
       "      <th>3</th>\n",
       "      <td>4</td>\n",
       "      <td>frauen, frau, rechtsbewußtsein, ich, männer</td>\n",
       "      <td>1</td>\n",
       "      <td>1980-01-01</td>\n",
       "    </tr>\n",
       "    <tr>\n",
       "      <th>4</th>\n",
       "      <td>5</td>\n",
       "      <td>ccls, baibus, critical, juristen, klare</td>\n",
       "      <td>1</td>\n",
       "      <td>1980-01-01</td>\n",
       "    </tr>\n",
       "    <tr>\n",
       "      <th>...</th>\n",
       "      <td>...</td>\n",
       "      <td>...</td>\n",
       "      <td>...</td>\n",
       "      <td>...</td>\n",
       "    </tr>\n",
       "    <tr>\n",
       "      <th>317</th>\n",
       "      <td>6</td>\n",
       "      <td>plett, konstanze, bundesverdienstkreuz, mensch...</td>\n",
       "      <td>1</td>\n",
       "      <td>2019-01-01</td>\n",
       "    </tr>\n",
       "    <tr>\n",
       "      <th>318</th>\n",
       "      <td>9</td>\n",
       "      <td>transnationalisierung, indes, referenzgebiet, ...</td>\n",
       "      <td>1</td>\n",
       "      <td>2019-01-01</td>\n",
       "    </tr>\n",
       "    <tr>\n",
       "      <th>319</th>\n",
       "      <td>11</td>\n",
       "      <td>stangl, opfer, konfliktparteien, beschuldigten...</td>\n",
       "      <td>1</td>\n",
       "      <td>2019-01-01</td>\n",
       "    </tr>\n",
       "    <tr>\n",
       "      <th>320</th>\n",
       "      <td>15</td>\n",
       "      <td>cause, bewegungen, scheingold, anwältinnen, fo...</td>\n",
       "      <td>1</td>\n",
       "      <td>2019-01-01</td>\n",
       "    </tr>\n",
       "    <tr>\n",
       "      <th>321</th>\n",
       "      <td>18</td>\n",
       "      <td>ausbildung, asylbewegung, ausländerbehörden, r...</td>\n",
       "      <td>2</td>\n",
       "      <td>2019-01-01</td>\n",
       "    </tr>\n",
       "  </tbody>\n",
       "</table>\n",
       "<p>322 rows × 4 columns</p>\n",
       "</div>"
      ],
      "text/plain": [
       "     Topic                                              Words  Frequency  \\\n",
       "0       -1  rechtsinstanzen, gruppenöffentlichkeit, normbr...          2   \n",
       "1        0  gericht, parteien, gluckman, gerichte, streitr...          3   \n",
       "2        3  rechtsvergleichung, vergleichende, comparative...          2   \n",
       "3        4        frauen, frau, rechtsbewußtsein, ich, männer          1   \n",
       "4        5            ccls, baibus, critical, juristen, klare          1   \n",
       "..     ...                                                ...        ...   \n",
       "317      6  plett, konstanze, bundesverdienstkreuz, mensch...          1   \n",
       "318      9  transnationalisierung, indes, referenzgebiet, ...          1   \n",
       "319     11  stangl, opfer, konfliktparteien, beschuldigten...          1   \n",
       "320     15  cause, bewegungen, scheingold, anwältinnen, fo...          1   \n",
       "321     18  ausbildung, asylbewegung, ausländerbehörden, r...          2   \n",
       "\n",
       "      Timestamp  \n",
       "0    1980-01-01  \n",
       "1    1980-01-01  \n",
       "2    1980-01-01  \n",
       "3    1980-01-01  \n",
       "4    1980-01-01  \n",
       "..          ...  \n",
       "317  2019-01-01  \n",
       "318  2019-01-01  \n",
       "319  2019-01-01  \n",
       "320  2019-01-01  \n",
       "321  2019-01-01  \n",
       "\n",
       "[322 rows x 4 columns]"
      ]
     },
     "execution_count": 84,
     "metadata": {},
     "output_type": "execute_result"
    }
   ],
   "source": [
    "topics_over_time"
   ]
  },
  {
   "cell_type": "markdown",
   "metadata": {
    "collapsed": false
   },
   "source": [
    "## Scatterplot topics over time"
   ]
  },
  {
   "cell_type": "code",
   "execution_count": 85,
   "metadata": {
    "ExecuteTime": {
     "end_time": "2023-10-04T14:33:18.815220300Z",
     "start_time": "2023-10-04T14:33:16.407595500Z"
    },
    "collapsed": false
   },
   "outputs": [
    {
     "data": {
      "image/png": "[encoded data removed]",
      "text/plain": [
       "<Figure size 640x480 with 1 Axes>"
      ]
     },
     "metadata": {},
     "output_type": "display_data"
    }
   ],
   "source": [
    "import re\n",
    "import matplotlib.pyplot as plt\n",
    "\n",
    "# Calculate total frequency for each topic\n",
    "total_freq = topics_over_time.groupby('Topic')['Frequency'].sum().sort_values(ascending=False)\n",
    "total_freq = total_freq.iloc[1:]\n",
    "\n",
    "# Select the 20 topics with the highest total frequency, excluding the junk topic\n",
    "top_topics = total_freq.head(21).index\n",
    "\n",
    "# Filter your data to include only these top 20 topics\n",
    "filtered_data = topics_over_time[topics_over_time['Topic'].isin(top_topics)].copy()  # Create a copy to avoid SettingWithCopyWarning\n",
    "lookup_dict = total_freq.to_dict()\n",
    "filtered_data.loc[:, 'Total_Frequency'] = filtered_data['Topic'].map(lookup_dict)\n",
    "\n",
    "# Create a mapping of topics numbers to words using the filtered data\n",
    "topic_num_to_name = {num: re.sub(r'[^a-z]', ' ', name).strip() + f\" ({freq})\" for num, name, freq in zip(filtered_data['Topic'], filtered_data['Words'], filtered_data['Total_Frequency'])}\n",
    "\n",
    "# Plot\n",
    "fig, ax = plt.subplots()\n",
    "ax.set_xlabel('Year')\n",
    "ax.set_ylabel('Topics')\n",
    "\n",
    "scatter = ax.scatter(filtered_data['Timestamp'], filtered_data['Topic'], s=filtered_data['Frequency'])\n",
    "\n",
    "# Rename y ticks to correspond to actual topic names\n",
    "plt.yticks(top_topics, [topic_num_to_name[num] for num in top_topics])\n",
    "\n",
    "# Invert the y-axis so that the topic with the highest total frequency appears at the top\n",
    "ax.invert_yaxis()\n",
    "\n",
    "# Create lines for each topic\n",
    "for t in top_topics:\n",
    "    data = filtered_data[filtered_data['Topic'] == t][['Timestamp', 'Topic']].sort_values('Timestamp')\n",
    "    ax.plot(data['Timestamp'], data['Topic'], color='grey', linewidth=0.5)\n",
    "\n",
    "plt.savefig(\"docs/zfrsoz-topics-over-time.png\", bbox_inches=\"tight\")\n",
    "plt.show()\n",
    "\n"
   ]
  },
  {
   "cell_type": "markdown",
   "metadata": {
    "collapsed": false
   },
   "source": [
    "## Change of topics over time, with individual timeseries for each decade"
   ]
  },
  {
   "cell_type": "code",
   "execution_count": 86,
   "metadata": {
    "ExecuteTime": {
     "end_time": "2023-06-19T16:07:36.872698Z",
     "start_time": "2023-06-19T16:07:33.556818Z"
    },
    "collapsed": false
   },
   "outputs": [
    {
     "ename": "ValueError",
     "evalue": "The number of FixedLocator locations (20), usually from a call to set_ticks, does not match the number of labels (17).",
     "output_type": "error",
     "traceback": [
      "\u001b[31m---------------------------------------------------------------------------\u001b[39m",
      "\u001b[31mValueError\u001b[39m                                Traceback (most recent call last)",
      "\u001b[36mCell\u001b[39m\u001b[36m \u001b[39m\u001b[32mIn[86]\u001b[39m\u001b[32m, line 50\u001b[39m\n\u001b[32m     48\u001b[39m y_labels = [\u001b[33mf\u001b[39m\u001b[33m'\u001b[39m\u001b[38;5;132;01m{\u001b[39;00mrank\u001b[38;5;132;01m}\u001b[39;00m\u001b[33m. \u001b[39m\u001b[38;5;132;01m{\u001b[39;00mtopic_num_to_word[num]\u001b[38;5;132;01m}\u001b[39;00m\u001b[33m'\u001b[39m \u001b[38;5;28;01mfor\u001b[39;00m rank, num \u001b[38;5;129;01min\u001b[39;00m \u001b[38;5;28mzip\u001b[39m(\u001b[38;5;28mrange\u001b[39m(\u001b[32m1\u001b[39m, \u001b[32m21\u001b[39m), top_topics_decade)]\n\u001b[32m     49\u001b[39m ax.set_yticks(y_values)\n\u001b[32m---> \u001b[39m\u001b[32m50\u001b[39m ax.set_yticklabels(y_labels)\n\u001b[32m     52\u001b[39m \u001b[38;5;66;03m# Create lines for each topic\u001b[39;00m\n\u001b[32m     53\u001b[39m \u001b[38;5;28;01mfor\u001b[39;00m t \u001b[38;5;129;01min\u001b[39;00m top_topics_decade:\n",
      "\u001b[36mFile \u001b[39m\u001b[32mc:\\Users\\boulanger\\Code\\jls-bibliometry\\.conda\\Lib\\site-packages\\matplotlib\\axes\\_base.py:74\u001b[39m, in \u001b[36m_axis_method_wrapper.__set_name__.<locals>.wrapper\u001b[39m\u001b[34m(self, *args, **kwargs)\u001b[39m\n\u001b[32m     73\u001b[39m \u001b[38;5;28;01mdef\u001b[39;00m\u001b[38;5;250m \u001b[39m\u001b[34mwrapper\u001b[39m(\u001b[38;5;28mself\u001b[39m, *args, **kwargs):\n\u001b[32m---> \u001b[39m\u001b[32m74\u001b[39m     \u001b[38;5;28;01mreturn\u001b[39;00m get_method(\u001b[38;5;28mself\u001b[39m)(*args, **kwargs)\n",
      "\u001b[36mFile \u001b[39m\u001b[32mc:\\Users\\boulanger\\Code\\jls-bibliometry\\.conda\\Lib\\site-packages\\matplotlib\\axis.py:2117\u001b[39m, in \u001b[36mAxis.set_ticklabels\u001b[39m\u001b[34m(self, labels, minor, fontdict, **kwargs)\u001b[39m\n\u001b[32m   2113\u001b[39m \u001b[38;5;28;01melif\u001b[39;00m \u001b[38;5;28misinstance\u001b[39m(locator, mticker.FixedLocator):\n\u001b[32m   2114\u001b[39m     \u001b[38;5;66;03m# Passing [] as a list of labels is often used as a way to\u001b[39;00m\n\u001b[32m   2115\u001b[39m     \u001b[38;5;66;03m# remove all tick labels, so only error for > 0 labels\u001b[39;00m\n\u001b[32m   2116\u001b[39m     \u001b[38;5;28;01mif\u001b[39;00m \u001b[38;5;28mlen\u001b[39m(locator.locs) != \u001b[38;5;28mlen\u001b[39m(labels) \u001b[38;5;129;01mand\u001b[39;00m \u001b[38;5;28mlen\u001b[39m(labels) != \u001b[32m0\u001b[39m:\n\u001b[32m-> \u001b[39m\u001b[32m2117\u001b[39m         \u001b[38;5;28;01mraise\u001b[39;00m \u001b[38;5;167;01mValueError\u001b[39;00m(\n\u001b[32m   2118\u001b[39m             \u001b[33m\"\u001b[39m\u001b[33mThe number of FixedLocator locations\u001b[39m\u001b[33m\"\u001b[39m\n\u001b[32m   2119\u001b[39m             \u001b[33mf\u001b[39m\u001b[33m\"\u001b[39m\u001b[33m (\u001b[39m\u001b[38;5;132;01m{\u001b[39;00m\u001b[38;5;28mlen\u001b[39m(locator.locs)\u001b[38;5;132;01m}\u001b[39;00m\u001b[33m), usually from a call to\u001b[39m\u001b[33m\"\u001b[39m\n\u001b[32m   2120\u001b[39m             \u001b[33m\"\u001b[39m\u001b[33m set_ticks, does not match\u001b[39m\u001b[33m\"\u001b[39m\n\u001b[32m   2121\u001b[39m             \u001b[33mf\u001b[39m\u001b[33m\"\u001b[39m\u001b[33m the number of labels (\u001b[39m\u001b[38;5;132;01m{\u001b[39;00m\u001b[38;5;28mlen\u001b[39m(labels)\u001b[38;5;132;01m}\u001b[39;00m\u001b[33m).\u001b[39m\u001b[33m\"\u001b[39m)\n\u001b[32m   2122\u001b[39m     tickd = {loc: lab \u001b[38;5;28;01mfor\u001b[39;00m loc, lab \u001b[38;5;129;01min\u001b[39;00m \u001b[38;5;28mzip\u001b[39m(locator.locs, labels)}\n\u001b[32m   2123\u001b[39m     func = functools.partial(\u001b[38;5;28mself\u001b[39m._format_with_dict, tickd)\n",
      "\u001b[31mValueError\u001b[39m: The number of FixedLocator locations (20), usually from a call to set_ticks, does not match the number of labels (17)."
     ]
    },
    {
     "data": {
      "image/png": "[encoded data removed]",
      "text/plain": [
       "<Figure size 1000x700 with 1 Axes>"
      ]
     },
     "metadata": {},
     "output_type": "display_data"
    }
   ],
   "source": [
    "import pandas as pd\n",
    "import matplotlib.pyplot as plt\n",
    "import os\n",
    "\n",
    "# Convert 'Timestamp' to datetime\n",
    "topics_over_time['Timestamp'] = pd.to_datetime(topics_over_time['Timestamp'])\n",
    "\n",
    "# Calculate the year for each row in the data\n",
    "topics_over_time['Year'] = topics_over_time['Timestamp'].dt.year\n",
    "\n",
    "# Get the first year and last year\n",
    "first_year = topics_over_time['Year'].min()\n",
    "last_year = topics_over_time['Year'].max()\n",
    "\n",
    "# Create list of \"decades\" with sliding windows\n",
    "decades = [(start, start + 10) for start in range(first_year, last_year, 10)]\n",
    "\n",
    "for i, (start, end) in enumerate(decades):\n",
    "    # Filter the data for the current \"decade\"\n",
    "    data_decade = topics_over_time[(topics_over_time['Year'] >= start) & (topics_over_time['Year'] < end)]\n",
    "\n",
    "    # Calculate total frequency for each topic in the current \"decade\"\n",
    "    total_freq_decade = data_decade.groupby('Topic')['Frequency'].sum().sort_values(ascending=False)\n",
    "\n",
    "    # Select the top 20 topics from the current \"decade\"\n",
    "    top_topics_decade = total_freq_decade.head(20).index\n",
    "\n",
    "    # Filter data_decade to include only the top 20 topics\n",
    "    data_decade = data_decade[data_decade['Topic'].isin(top_topics_decade)]\n",
    "\n",
    "    # Create a mapping of topics numbers to words using the data_decade\n",
    "    topic_num_to_word = {num: word for num, word in zip(data_decade['Topic'], data_decade['Words'])}\n",
    "\n",
    "    # Create a new continuous range of numbers for y-axis, but in reversed order\n",
    "    y_values = range(20, 0, -1)\n",
    "    topic_to_y_value = {topic: y for topic, y in zip(top_topics_decade, y_values)}\n",
    "\n",
    "    # Create figure for the plot\n",
    "    fig, ax = plt.subplots(figsize=(10, 7))\n",
    "\n",
    "    # Plot\n",
    "    ax.set_title(f'Years: {start}-{end-1}')\n",
    "    ax.set_xlabel('Year')\n",
    "    ax.set_ylabel('Topics')\n",
    "    scatter = ax.scatter(data_decade['Timestamp'], data_decade['Topic'].map(topic_to_y_value), s=data_decade['Frequency'])\n",
    "\n",
    "    # Rename y ticks to correspond to actual topics\n",
    "    y_labels = [f'{rank}. {topic_num_to_word[num]}' for rank, num in zip(range(1, 21), top_topics_decade)]\n",
    "    ax.set_yticks(y_values)\n",
    "    ax.set_yticklabels(y_labels)\n",
    "\n",
    "    # Create lines for each topic\n",
    "    for t in top_topics_decade:\n",
    "        data = data_decade[data_decade['Topic'] == t].sort_values('Timestamp')\n",
    "        ax.plot(data['Timestamp'], data['Topic'].map(topic_to_y_value), color='grey', linewidth=0.5)\n",
    "\n",
    "    # Save the figure\n",
    "    filename = f'docs/zfrsoz-topics-{start}-{end-1}.png'\n",
    "    plt.savefig(filename, bbox_inches=\"tight\", dpi=300)\n",
    "\n",
    "    # Clear the figure\n",
    "    plt.close(fig)\n",
    "\n"
   ]
  },
  {
   "cell_type": "markdown",
   "metadata": {
    "collapsed": false
   },
   "source": [
    "## Plot document topics"
   ]
  },
  {
   "cell_type": "code",
   "execution_count": null,
   "metadata": {
    "ExecuteTime": {
     "end_time": "2023-06-02T16:48:47.650994Z",
     "start_time": "2023-06-02T15:51:04.034044Z"
    },
    "collapsed": false
   },
   "outputs": [],
   "source": [
    "if os.path.exists('cache/zfrsoz-document-topics.pkl'):\n",
    "    with open('cache/zfrsoz-document-topics.pkl', 'rb') as f:\n",
    "        fig_document_topics = pickle.load(f)\n",
    "else:\n",
    "    # create document topics, this takes a long time\n",
    "    fig_document_topics = model.visualize_documents(articles, hide_document_hover=True)\n",
    "    with open('cache/zfrsoz-document-topics.pkl', 'wb') as f:\n",
    "        pickle.dump(fig_document_topics, f)\n",
    "img = fig_document_topics.to_image(format=\"png\", height=800)\n",
    "with open(\"docs/zfrsoz-document-topics.png\", \"wb\") as f:\n",
    "    f.write(img)\n",
    "fig_document_topics.write_html(\"docs/zfrsoz-document-topics.html\")\n",
    "display(Image(img))"
   ]
  }
 ],
 "metadata": {
  "kernelspec": {
   "display_name": ".conda",
   "language": "python",
   "name": "python3"
  },
  "language_info": {
   "codemirror_mode": {
    "name": "ipython",
    "version": 3
   },
   "file_extension": ".py",
   "mimetype": "text/x-python",
   "name": "python",
   "nbconvert_exporter": "python",
   "pygments_lexer": "ipython3",
   "version": "3.12.9"
  },
  "toc": {
   "base_numbering": 1,
   "nav_menu": {},
   "number_sections": true,
   "sideBar": true,
   "skip_h1_title": false,
   "title_cell": "Table of Contents",
   "title_sidebar": "Contents",
   "toc_cell": false,
   "toc_position": {},
   "toc_section_display": true,
   "toc_window_display": false
  }
 },
 "nbformat": 4,
 "nbformat_minor": 1
}
